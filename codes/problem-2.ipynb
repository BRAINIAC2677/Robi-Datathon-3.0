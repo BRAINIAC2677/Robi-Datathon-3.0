{
 "cells": [
  {
   "cell_type": "code",
   "execution_count": 1,
   "metadata": {},
   "outputs": [
    {
     "name": "stderr",
     "output_type": "stream",
     "text": [
      "/tmp/user/1000/ipykernel_63598/921126703.py:6: DeprecationWarning: \n",
      "Pyarrow will become a required dependency of pandas in the next major release of pandas (pandas 3.0),\n",
      "(to allow more performant data types, such as the Arrow string type, and better interoperability with other libraries)\n",
      "but was not found to be installed on your system.\n",
      "If this would cause problems for you,\n",
      "please provide us feedback at https://github.com/pandas-dev/pandas/issues/54466\n",
      "        \n",
      "  import pandas as pd # data processing, CSV file I/O (e.g. pd.read_csv)\n"
     ]
    }
   ],
   "source": [
    "import os\n",
    "import gc\n",
    "import torch\n",
    "import random\n",
    "import datetime\n",
    "import pandas as pd # data processing, CSV file I/O (e.g. pd.read_csv)"
   ]
  },
  {
   "cell_type": "code",
   "execution_count": 2,
   "metadata": {},
   "outputs": [],
   "source": [
    "purchase_df = pd.read_csv('../data/purchase.csv')\n",
    "boxes_df = pd.read_csv('../data/boxes.csv')"
   ]
  },
  {
   "cell_type": "code",
   "execution_count": 3,
   "metadata": {},
   "outputs": [
    {
     "data": {
      "text/html": [
       "<div>\n",
       "<style scoped>\n",
       "    .dataframe tbody tr th:only-of-type {\n",
       "        vertical-align: middle;\n",
       "    }\n",
       "\n",
       "    .dataframe tbody tr th {\n",
       "        vertical-align: top;\n",
       "    }\n",
       "\n",
       "    .dataframe thead th {\n",
       "        text-align: right;\n",
       "    }\n",
       "</style>\n",
       "<table border=\"1\" class=\"dataframe\">\n",
       "  <thead>\n",
       "    <tr style=\"text-align: right;\">\n",
       "      <th></th>\n",
       "      <th>PURCHASE_DATE</th>\n",
       "      <th>MAGIC_KEY</th>\n",
       "      <th>BOX_ID</th>\n",
       "      <th>BOX_COUNT</th>\n",
       "    </tr>\n",
       "  </thead>\n",
       "  <tbody>\n",
       "    <tr>\n",
       "      <th>0</th>\n",
       "      <td>1/2/2019</td>\n",
       "      <td>2CED678A247</td>\n",
       "      <td>12.0</td>\n",
       "      <td>1.0</td>\n",
       "    </tr>\n",
       "    <tr>\n",
       "      <th>1</th>\n",
       "      <td>1/2/2019</td>\n",
       "      <td>2BF58D91BA1</td>\n",
       "      <td>12.0</td>\n",
       "      <td>1.0</td>\n",
       "    </tr>\n",
       "    <tr>\n",
       "      <th>2</th>\n",
       "      <td>1/2/2019</td>\n",
       "      <td>2C15B86534E</td>\n",
       "      <td>99.0</td>\n",
       "      <td>1.0</td>\n",
       "    </tr>\n",
       "    <tr>\n",
       "      <th>3</th>\n",
       "      <td>1/2/2019</td>\n",
       "      <td>2C32D9A859A</td>\n",
       "      <td>6.0</td>\n",
       "      <td>1.0</td>\n",
       "    </tr>\n",
       "    <tr>\n",
       "      <th>4</th>\n",
       "      <td>1/2/2019</td>\n",
       "      <td>2C7A55404D1</td>\n",
       "      <td>4.0</td>\n",
       "      <td>1.0</td>\n",
       "    </tr>\n",
       "  </tbody>\n",
       "</table>\n",
       "</div>"
      ],
      "text/plain": [
       "  PURCHASE_DATE    MAGIC_KEY  BOX_ID  BOX_COUNT\n",
       "0      1/2/2019  2CED678A247    12.0        1.0\n",
       "1      1/2/2019  2BF58D91BA1    12.0        1.0\n",
       "2      1/2/2019  2C15B86534E    99.0        1.0\n",
       "3      1/2/2019  2C32D9A859A     6.0        1.0\n",
       "4      1/2/2019  2C7A55404D1     4.0        1.0"
      ]
     },
     "execution_count": 3,
     "metadata": {},
     "output_type": "execute_result"
    }
   ],
   "source": [
    "purchase_df.head()"
   ]
  },
  {
   "cell_type": "code",
   "execution_count": 4,
   "metadata": {},
   "outputs": [],
   "source": [
    "base_date = datetime.date(2018, 10, 1)\n",
    "purchase_df['day'] = purchase_df['PURCHASE_DATE'].apply(lambda x: (datetime.datetime.strptime(x, '%d/%m/%Y').date() - base_date).days)"
   ]
  },
  {
   "cell_type": "code",
   "execution_count": 5,
   "metadata": {},
   "outputs": [
    {
     "data": {
      "text/html": [
       "<div>\n",
       "<style scoped>\n",
       "    .dataframe tbody tr th:only-of-type {\n",
       "        vertical-align: middle;\n",
       "    }\n",
       "\n",
       "    .dataframe tbody tr th {\n",
       "        vertical-align: top;\n",
       "    }\n",
       "\n",
       "    .dataframe thead th {\n",
       "        text-align: right;\n",
       "    }\n",
       "</style>\n",
       "<table border=\"1\" class=\"dataframe\">\n",
       "  <thead>\n",
       "    <tr style=\"text-align: right;\">\n",
       "      <th></th>\n",
       "      <th>PURCHASE_DATE</th>\n",
       "      <th>MAGIC_KEY</th>\n",
       "      <th>BOX_ID</th>\n",
       "      <th>BOX_COUNT</th>\n",
       "      <th>day</th>\n",
       "    </tr>\n",
       "  </thead>\n",
       "  <tbody>\n",
       "    <tr>\n",
       "      <th>1756211</th>\n",
       "      <td>30/11/2018</td>\n",
       "      <td>2C04F9472C8</td>\n",
       "      <td>134.0</td>\n",
       "      <td>1.0</td>\n",
       "      <td>60</td>\n",
       "    </tr>\n",
       "    <tr>\n",
       "      <th>118706</th>\n",
       "      <td>6/2/2019</td>\n",
       "      <td>28DAE3B431A</td>\n",
       "      <td>246.0</td>\n",
       "      <td>1.0</td>\n",
       "      <td>128</td>\n",
       "    </tr>\n",
       "    <tr>\n",
       "      <th>517168</th>\n",
       "      <td>26/2/2019</td>\n",
       "      <td>2BC624487F3</td>\n",
       "      <td>144.0</td>\n",
       "      <td>1.0</td>\n",
       "      <td>148</td>\n",
       "    </tr>\n",
       "    <tr>\n",
       "      <th>1957736</th>\n",
       "      <td>5/11/2018</td>\n",
       "      <td>28D3B9C3C74</td>\n",
       "      <td>237.0</td>\n",
       "      <td>1.0</td>\n",
       "      <td>35</td>\n",
       "    </tr>\n",
       "    <tr>\n",
       "      <th>2440055</th>\n",
       "      <td>28/10/2018</td>\n",
       "      <td>2CE24E86761</td>\n",
       "      <td>143.0</td>\n",
       "      <td>1.0</td>\n",
       "      <td>27</td>\n",
       "    </tr>\n",
       "    <tr>\n",
       "      <th>2205154</th>\n",
       "      <td>17/10/2018</td>\n",
       "      <td>2CE0774F199</td>\n",
       "      <td>143.0</td>\n",
       "      <td>1.0</td>\n",
       "      <td>16</td>\n",
       "    </tr>\n",
       "    <tr>\n",
       "      <th>194441</th>\n",
       "      <td>10/2/2019</td>\n",
       "      <td>2BDA482F95D</td>\n",
       "      <td>142.0</td>\n",
       "      <td>1.0</td>\n",
       "      <td>132</td>\n",
       "    </tr>\n",
       "    <tr>\n",
       "      <th>2069798</th>\n",
       "      <td>2/10/2018</td>\n",
       "      <td>2BDDF44DF92</td>\n",
       "      <td>163.0</td>\n",
       "      <td>1.0</td>\n",
       "      <td>1</td>\n",
       "    </tr>\n",
       "    <tr>\n",
       "      <th>1630111</th>\n",
       "      <td>25/11/2018</td>\n",
       "      <td>29768DCBCA1</td>\n",
       "      <td>271.0</td>\n",
       "      <td>1.0</td>\n",
       "      <td>55</td>\n",
       "    </tr>\n",
       "    <tr>\n",
       "      <th>848289</th>\n",
       "      <td>15/1/2019</td>\n",
       "      <td>2CF41C6F7CA</td>\n",
       "      <td>106.0</td>\n",
       "      <td>1.0</td>\n",
       "      <td>106</td>\n",
       "    </tr>\n",
       "  </tbody>\n",
       "</table>\n",
       "</div>"
      ],
      "text/plain": [
       "        PURCHASE_DATE    MAGIC_KEY  BOX_ID  BOX_COUNT  day\n",
       "1756211    30/11/2018  2C04F9472C8   134.0        1.0   60\n",
       "118706       6/2/2019  28DAE3B431A   246.0        1.0  128\n",
       "517168      26/2/2019  2BC624487F3   144.0        1.0  148\n",
       "1957736     5/11/2018  28D3B9C3C74   237.0        1.0   35\n",
       "2440055    28/10/2018  2CE24E86761   143.0        1.0   27\n",
       "2205154    17/10/2018  2CE0774F199   143.0        1.0   16\n",
       "194441      10/2/2019  2BDA482F95D   142.0        1.0  132\n",
       "2069798     2/10/2018  2BDDF44DF92   163.0        1.0    1\n",
       "1630111    25/11/2018  29768DCBCA1   271.0        1.0   55\n",
       "848289      15/1/2019  2CF41C6F7CA   106.0        1.0  106"
      ]
     },
     "execution_count": 5,
     "metadata": {},
     "output_type": "execute_result"
    }
   ],
   "source": [
    "purchase_df.sample(10)"
   ]
  },
  {
   "cell_type": "code",
   "execution_count": 6,
   "metadata": {},
   "outputs": [],
   "source": [
    "purchase_df.drop(['PURCHASE_DATE'], axis=1, inplace=True)"
   ]
  },
  {
   "cell_type": "code",
   "execution_count": 7,
   "metadata": {},
   "outputs": [],
   "source": [
    "customer_keys = purchase_df['MAGIC_KEY'].unique()\n",
    "customer_ids = {customer_keys[i]: i for i in range(len(customer_keys))}"
   ]
  },
  {
   "cell_type": "code",
   "execution_count": 8,
   "metadata": {},
   "outputs": [],
   "source": [
    "purchase_df.drop(purchase_df[purchase_df['BOX_ID'].isnull()].index, inplace=True)\n",
    "purchase_df.drop(purchase_df[purchase_df['BOX_COUNT'] < 0].index, inplace=True)"
   ]
  },
  {
   "cell_type": "code",
   "execution_count": 9,
   "metadata": {},
   "outputs": [],
   "source": [
    "purchase_df['BOX_COUNT'] = purchase_df['BOX_COUNT'].astype(int)\n",
    "purchase_df['BOX_ID'] = purchase_df['BOX_ID'].astype(int)"
   ]
  },
  {
   "cell_type": "code",
   "execution_count": 10,
   "metadata": {},
   "outputs": [
    {
     "data": {
      "text/html": [
       "<div>\n",
       "<style scoped>\n",
       "    .dataframe tbody tr th:only-of-type {\n",
       "        vertical-align: middle;\n",
       "    }\n",
       "\n",
       "    .dataframe tbody tr th {\n",
       "        vertical-align: top;\n",
       "    }\n",
       "\n",
       "    .dataframe thead th {\n",
       "        text-align: right;\n",
       "    }\n",
       "</style>\n",
       "<table border=\"1\" class=\"dataframe\">\n",
       "  <thead>\n",
       "    <tr style=\"text-align: right;\">\n",
       "      <th></th>\n",
       "      <th>MAGIC_KEY</th>\n",
       "      <th>BOX_ID</th>\n",
       "      <th>BOX_COUNT</th>\n",
       "      <th>day</th>\n",
       "    </tr>\n",
       "  </thead>\n",
       "  <tbody>\n",
       "    <tr>\n",
       "      <th>1317097</th>\n",
       "      <td>2CE55910930</td>\n",
       "      <td>103</td>\n",
       "      <td>1</td>\n",
       "      <td>73</td>\n",
       "    </tr>\n",
       "    <tr>\n",
       "      <th>1997981</th>\n",
       "      <td>2C671992EFF</td>\n",
       "      <td>137</td>\n",
       "      <td>1</td>\n",
       "      <td>2</td>\n",
       "    </tr>\n",
       "    <tr>\n",
       "      <th>112386</th>\n",
       "      <td>2C1C2D84A2A</td>\n",
       "      <td>103</td>\n",
       "      <td>1</td>\n",
       "      <td>128</td>\n",
       "    </tr>\n",
       "    <tr>\n",
       "      <th>609138</th>\n",
       "      <td>2C82DF45918</td>\n",
       "      <td>78</td>\n",
       "      <td>1</td>\n",
       "      <td>93</td>\n",
       "    </tr>\n",
       "    <tr>\n",
       "      <th>1533417</th>\n",
       "      <td>2C1CB077617</td>\n",
       "      <td>41</td>\n",
       "      <td>1</td>\n",
       "      <td>91</td>\n",
       "    </tr>\n",
       "    <tr>\n",
       "      <th>1428602</th>\n",
       "      <td>2BE869459E6</td>\n",
       "      <td>103</td>\n",
       "      <td>1</td>\n",
       "      <td>84</td>\n",
       "    </tr>\n",
       "    <tr>\n",
       "      <th>1278451</th>\n",
       "      <td>2CDBCADB0B3</td>\n",
       "      <td>4</td>\n",
       "      <td>1</td>\n",
       "      <td>72</td>\n",
       "    </tr>\n",
       "    <tr>\n",
       "      <th>375159</th>\n",
       "      <td>2949C2B6B4D</td>\n",
       "      <td>272</td>\n",
       "      <td>1</td>\n",
       "      <td>141</td>\n",
       "    </tr>\n",
       "    <tr>\n",
       "      <th>1170675</th>\n",
       "      <td>2C25FB661CC</td>\n",
       "      <td>163</td>\n",
       "      <td>1</td>\n",
       "      <td>64</td>\n",
       "    </tr>\n",
       "    <tr>\n",
       "      <th>2232569</th>\n",
       "      <td>2C3BEF7AC4E</td>\n",
       "      <td>134</td>\n",
       "      <td>1</td>\n",
       "      <td>19</td>\n",
       "    </tr>\n",
       "  </tbody>\n",
       "</table>\n",
       "</div>"
      ],
      "text/plain": [
       "           MAGIC_KEY  BOX_ID  BOX_COUNT  day\n",
       "1317097  2CE55910930     103          1   73\n",
       "1997981  2C671992EFF     137          1    2\n",
       "112386   2C1C2D84A2A     103          1  128\n",
       "609138   2C82DF45918      78          1   93\n",
       "1533417  2C1CB077617      41          1   91\n",
       "1428602  2BE869459E6     103          1   84\n",
       "1278451  2CDBCADB0B3       4          1   72\n",
       "375159   2949C2B6B4D     272          1  141\n",
       "1170675  2C25FB661CC     163          1   64\n",
       "2232569  2C3BEF7AC4E     134          1   19"
      ]
     },
     "execution_count": 10,
     "metadata": {},
     "output_type": "execute_result"
    }
   ],
   "source": [
    "purchase_df.sample(10)"
   ]
  },
  {
   "cell_type": "code",
   "execution_count": 11,
   "metadata": {},
   "outputs": [
    {
     "data": {
      "text/plain": [
       "1274087"
      ]
     },
     "execution_count": 11,
     "metadata": {},
     "output_type": "execute_result"
    }
   ],
   "source": [
    "len(purchase_df['MAGIC_KEY'].unique())"
   ]
  },
  {
   "cell_type": "code",
   "execution_count": 12,
   "metadata": {},
   "outputs": [
    {
     "data": {
      "text/plain": [
       "2455800"
      ]
     },
     "execution_count": 12,
     "metadata": {},
     "output_type": "execute_result"
    }
   ],
   "source": [
    "len(purchase_df)"
   ]
  },
  {
   "cell_type": "code",
   "execution_count": 13,
   "metadata": {},
   "outputs": [
    {
     "data": {
      "text/plain": [
       "0          None\n",
       "1          None\n",
       "2          None\n",
       "3          None\n",
       "4          None\n",
       "           ... \n",
       "2455859    None\n",
       "2455860    None\n",
       "2455861    None\n",
       "2455862    None\n",
       "2455863    None\n",
       "Length: 2455800, dtype: object"
      ]
     },
     "execution_count": 13,
     "metadata": {},
     "output_type": "execute_result"
    }
   ],
   "source": [
    "purchases = [[] for _ in range(len(customer_keys))]\n",
    "purchase_df.apply(lambda x: purchases[customer_ids[x['MAGIC_KEY']]].append((x['BOX_ID'], x['BOX_COUNT'], x['day'])), axis=1)"
   ]
  },
  {
   "cell_type": "code",
   "execution_count": 14,
   "metadata": {},
   "outputs": [
    {
     "data": {
      "text/html": [
       "<div>\n",
       "<style scoped>\n",
       "    .dataframe tbody tr th:only-of-type {\n",
       "        vertical-align: middle;\n",
       "    }\n",
       "\n",
       "    .dataframe tbody tr th {\n",
       "        vertical-align: top;\n",
       "    }\n",
       "\n",
       "    .dataframe thead th {\n",
       "        text-align: right;\n",
       "    }\n",
       "</style>\n",
       "<table border=\"1\" class=\"dataframe\">\n",
       "  <thead>\n",
       "    <tr style=\"text-align: right;\">\n",
       "      <th></th>\n",
       "      <th>MAGIC_KEY</th>\n",
       "    </tr>\n",
       "  </thead>\n",
       "  <tbody>\n",
       "    <tr>\n",
       "      <th>0</th>\n",
       "      <td>2C0B5F97180</td>\n",
       "    </tr>\n",
       "    <tr>\n",
       "      <th>1</th>\n",
       "      <td>2C2F659EF00</td>\n",
       "    </tr>\n",
       "    <tr>\n",
       "      <th>2</th>\n",
       "      <td>29D629EDF20</td>\n",
       "    </tr>\n",
       "    <tr>\n",
       "      <th>3</th>\n",
       "      <td>2A7073E2FF0</td>\n",
       "    </tr>\n",
       "    <tr>\n",
       "      <th>4</th>\n",
       "      <td>2A9B9BE1210</td>\n",
       "    </tr>\n",
       "  </tbody>\n",
       "</table>\n",
       "</div>"
      ],
      "text/plain": [
       "     MAGIC_KEY\n",
       "0  2C0B5F97180\n",
       "1  2C2F659EF00\n",
       "2  29D629EDF20\n",
       "3  2A7073E2FF0\n",
       "4  2A9B9BE1210"
      ]
     },
     "execution_count": 14,
     "metadata": {},
     "output_type": "execute_result"
    }
   ],
   "source": [
    "prob2_df =pd.read_csv('../data/problem 2.csv')\n",
    "prob2_df.head()"
   ]
  },
  {
   "cell_type": "code",
   "execution_count": 15,
   "metadata": {},
   "outputs": [
    {
     "data": {
      "text/plain": [
       "43518"
      ]
     },
     "execution_count": 15,
     "metadata": {},
     "output_type": "execute_result"
    }
   ],
   "source": [
    "len(prob2_df)"
   ]
  },
  {
   "cell_type": "code",
   "execution_count": 16,
   "metadata": {},
   "outputs": [
    {
     "data": {
      "text/plain": [
       "43518"
      ]
     },
     "execution_count": 16,
     "metadata": {},
     "output_type": "execute_result"
    }
   ],
   "source": [
    "prob2_customers = [customer_ids[x] for x in prob2_df['MAGIC_KEY'].unique()]\n",
    "len(prob2_customers)"
   ]
  },
  {
   "cell_type": "code",
   "execution_count": 17,
   "metadata": {},
   "outputs": [
    {
     "data": {
      "image/png": "[encoded data removed]",
      "text/plain": [
       "<Figure size 640x480 with 1 Axes>"
      ]
     },
     "metadata": {},
     "output_type": "display_data"
    }
   ],
   "source": [
    "\n",
    "purchase_counts = {}\n",
    "for i, _ in enumerate(purchases):\n",
    "    cnt = len(purchases[i])\n",
    "    if cnt not in purchase_counts:\n",
    "        purchase_counts[cnt] = 1\n",
    "    else:\n",
    "        purchase_counts[cnt] += 1\n",
    "\n",
    "#generate bar plot from purchase counts\n",
    "        \n",
    "import matplotlib.pyplot as plt\n",
    "plt.bar(purchase_counts.keys(), purchase_counts.values())\n",
    "plt.show()"
   ]
  },
  {
   "cell_type": "code",
   "execution_count": 18,
   "metadata": {},
   "outputs": [],
   "source": [
    "for i, _ in enumerate(purchases):\n",
    "    purchases[i].sort(key=lambda x: x[2])"
   ]
  },
  {
   "cell_type": "code",
   "execution_count": 19,
   "metadata": {},
   "outputs": [
    {
     "name": "stdout",
     "output_type": "stream",
     "text": [
      "single purchase: \n",
      "0 [(12, 1, 123)]\n",
      "1 [(12, 1, 123)]\n",
      "3 [(6, 1, 123)]\n",
      "4 [(4, 1, 123)]\n",
      "6 [(227, 1, 123)]\n",
      "7 [(6, 1, 123)]\n",
      "10 [(12, 1, 123)]\n",
      "11 [(231, 1, 123)]\n",
      "13 [(278, 1, 123)]\n",
      "16 [(231, 1, 123)]\n",
      "more than 5 purchase: \n",
      "5 [(238, 1, 14), (238, 1, 36), (238, 1, 56), (238, 1, 80), (238, 1, 100), (238, 1, 123)]\n",
      "14 [(203, 1, 35), (203, 1, 53), (203, 1, 63), (221, 1, 72), (203, 1, 81), (203, 1, 87), (238, 1, 97), (204, 1, 123), (204, 1, 135), (272, 1, 150)]\n",
      "38 [(8, 1, 15), (8, 1, 30), (8, 1, 60), (8, 1, 82), (8, 1, 104), (8, 1, 123)]\n",
      "39 [(238, 1, 20), (238, 1, 44), (268, 1, 54), (238, 1, 67), (238, 1, 76), (238, 1, 89), (238, 1, 98), (238, 1, 105), (228, 1, 123), (238, 1, 129), (238, 1, 133), (238, 1, 138), (238, 1, 142), (230, 1, 147), (238, 1, 150)]\n",
      "42 [(260, 1, 8), (203, 1, 23), (221, 1, 38), (221, 1, 65), (271, 1, 84), (272, 1, 104), (221, 1, 123), (276, 1, 145)]\n",
      "43 [(137, 1, 6), (137, 1, 23), (137, 1, 42), (137, 1, 62), (137, 1, 79), (174, 1, 97), (174, 1, 123)]\n",
      "44 [(238, 1, 18), (238, 1, 102), (228, 1, 108), (228, 1, 115), (228, 1, 118), (228, 1, 120), (228, 1, 123), (228, 1, 125), (230, 1, 129), (230, 1, 134), (230, 1, 137), (230, 1, 139), (230, 1, 141), (230, 1, 145), (230, 1, 148)]\n",
      "47 [(106, 1, 41), (103, 1, 71), (106, 1, 101), (106, 1, 112), (106, 1, 123), (106, 1, 132)]\n",
      "48 [(106, 1, 18), (106, 1, 40), (103, 1, 71), (106, 1, 100), (106, 1, 123), (108, 1, 150)]\n",
      "51 [(89, 1, 24), (89, 1, 50), (89, 1, 70), (89, 1, 80), (89, 1, 90), (89, 1, 94), (89, 1, 105), (89, 1, 123), (9, 1, 139)]\n"
     ]
    }
   ],
   "source": [
    "a = 10\n",
    "b = 10\n",
    "print(\"single purchase: \")\n",
    "for i, p in enumerate(purchases):\n",
    "    if len(p) == 1:\n",
    "        if a > 0:\n",
    "            print(i, p)\n",
    "            a -= 1\n",
    "\n",
    "print(\"more than 5 purchase: \")\n",
    "for i, p in enumerate(purchases):\n",
    "    if len(p) > 5:\n",
    "        if b > 0:\n",
    "            print(i, p)\n",
    "            b -= 1\n"
   ]
  },
  {
   "cell_type": "code",
   "execution_count": 20,
   "metadata": {},
   "outputs": [
    {
     "data": {
      "text/html": [
       "<div>\n",
       "<style scoped>\n",
       "    .dataframe tbody tr th:only-of-type {\n",
       "        vertical-align: middle;\n",
       "    }\n",
       "\n",
       "    .dataframe tbody tr th {\n",
       "        vertical-align: top;\n",
       "    }\n",
       "\n",
       "    .dataframe thead th {\n",
       "        text-align: right;\n",
       "    }\n",
       "</style>\n",
       "<table border=\"1\" class=\"dataframe\">\n",
       "  <thead>\n",
       "    <tr style=\"text-align: right;\">\n",
       "      <th></th>\n",
       "      <th>BOX_ID</th>\n",
       "      <th>QUALITY</th>\n",
       "      <th>DELIVERY_OPTION</th>\n",
       "      <th>MILK</th>\n",
       "      <th>MEAT</th>\n",
       "      <th>UNIT_PRICE</th>\n",
       "    </tr>\n",
       "  </thead>\n",
       "  <tbody>\n",
       "    <tr>\n",
       "      <th>109</th>\n",
       "      <td>110</td>\n",
       "      <td>Premium</td>\n",
       "      <td>Delivery from Collection Point</td>\n",
       "      <td>0.0</td>\n",
       "      <td>4.4</td>\n",
       "      <td>15.96</td>\n",
       "    </tr>\n",
       "    <tr>\n",
       "      <th>110</th>\n",
       "      <td>111</td>\n",
       "      <td>Premium</td>\n",
       "      <td>Delivery from Collection Point</td>\n",
       "      <td>0.0</td>\n",
       "      <td>4.7</td>\n",
       "      <td>15.96</td>\n",
       "    </tr>\n",
       "  </tbody>\n",
       "</table>\n",
       "</div>"
      ],
      "text/plain": [
       "     BOX_ID  QUALITY                 DELIVERY_OPTION  MILK  MEAT  UNIT_PRICE\n",
       "109     110  Premium  Delivery from Collection Point   0.0   4.4       15.96\n",
       "110     111  Premium  Delivery from Collection Point   0.0   4.7       15.96"
      ]
     },
     "execution_count": 20,
     "metadata": {},
     "output_type": "execute_result"
    }
   ],
   "source": [
    "boxes_df[109:111]"
   ]
  },
  {
   "cell_type": "code",
   "execution_count": 21,
   "metadata": {},
   "outputs": [
    {
     "data": {
      "text/plain": [
       "290"
      ]
     },
     "execution_count": 21,
     "metadata": {},
     "output_type": "execute_result"
    }
   ],
   "source": [
    "len(boxes_df)"
   ]
  },
  {
   "cell_type": "code",
   "execution_count": 22,
   "metadata": {},
   "outputs": [],
   "source": [
    "def meat_consumed(cid, start_day, end_day):\n",
    "    boxes = filter(lambda x: x[2] >= start_day and x[2] < end_day, purchases[cid])\n",
    "    meat_consumed = 0\n",
    "    for id, cnt, _ in boxes:\n",
    "        meat_consumed += cnt * boxes_df.at[id - 1, 'MEAT']\n",
    "    return meat_consumed\n",
    "\n",
    "def meat_consumption_rate(cid, end_day=151):\n",
    "    if len(purchases[cid]) == 0:\n",
    "        return 0.0\n",
    "    start = purchases[cid][0][2]\n",
    "    if start < end_day:\n",
    "        return meat_consumed(cid, start, end_day) / (end_day - start)\n",
    "    else:\n",
    "        return 0"
   ]
  },
  {
   "cell_type": "code",
   "execution_count": 23,
   "metadata": {},
   "outputs": [],
   "source": [
    "def milk_consumed(cid, start_day, end_day):\n",
    "    boxes = filter(lambda x: x[2] >= start_day and x[2] < end_day, purchases[cid])\n",
    "    milk_consumed = 0\n",
    "    for id, cnt, _ in boxes:\n",
    "        milk_consumed += cnt * boxes_df.at[id - 1, 'MILK']\n",
    "    return milk_consumed\n",
    "\n",
    "def milk_consumption_rate(cid, end_day=151):\n",
    "    if len(purchases[cid]) == 0:\n",
    "        return 0.0\n",
    "    start = purchases[cid][0][2]\n",
    "    if start < end_day:\n",
    "        return milk_consumed(cid, start, end_day) / (end_day - start)\n",
    "    else:\n",
    "        return 0"
   ]
  },
  {
   "cell_type": "code",
   "execution_count": 24,
   "metadata": {},
   "outputs": [],
   "source": [
    "def box_consumed(cid, start_day, end_day):\n",
    "    boxes = filter(lambda x: x[2] >= start_day and x[2] < end_day, purchases[cid])\n",
    "    box_ids = []\n",
    "    for id, _ , _ in boxes:\n",
    "        box_ids.append(id)\n",
    "    return box_ids"
   ]
  },
  {
   "cell_type": "code",
   "execution_count": 25,
   "metadata": {},
   "outputs": [
    {
     "data": {
      "text/plain": [
       "150"
      ]
     },
     "execution_count": 25,
     "metadata": {},
     "output_type": "execute_result"
    }
   ],
   "source": [
    "last_day = purchase_df['day'].max()\n",
    "last_day"
   ]
  },
  {
   "cell_type": "code",
   "execution_count": 26,
   "metadata": {},
   "outputs": [
    {
     "data": {
      "text/plain": [
       "150"
      ]
     },
     "execution_count": 26,
     "metadata": {},
     "output_type": "execute_result"
    }
   ],
   "source": [
    "last_date = datetime.date(2019, 2, 28)\n",
    "(last_date - base_date).days"
   ]
  },
  {
   "cell_type": "code",
   "execution_count": 27,
   "metadata": {},
   "outputs": [
    {
     "data": {
      "text/plain": [
       "0"
      ]
     },
     "execution_count": 27,
     "metadata": {},
     "output_type": "execute_result"
    }
   ],
   "source": [
    "first_day = purchase_df['day'].min()\n",
    "first_day"
   ]
  },
  {
   "cell_type": "code",
   "execution_count": 28,
   "metadata": {},
   "outputs": [
    {
     "name": "stdout",
     "output_type": "stream",
     "text": [
      "0.05357142857142857\n",
      "0.2857142857142857\n",
      "[(12, 1, 123)]\n"
     ]
    }
   ],
   "source": [
    "print(meat_consumption_rate(0))\n",
    "print(milk_consumption_rate(0))\n",
    "print(purchases[0])"
   ]
  },
  {
   "cell_type": "code",
   "execution_count": 29,
   "metadata": {},
   "outputs": [
    {
     "data": {
      "text/plain": [
       "[4.4, 27]"
      ]
     },
     "execution_count": 29,
     "metadata": {},
     "output_type": "execute_result"
    }
   ],
   "source": [
    "def last_meat_consumption(cid, end_day=150):\n",
    "    consumptions = list(filter(lambda x: x[2] < end_day and boxes_df.at[x[0] - 1, 'MEAT'] > 0.0, purchases[cid]))\n",
    "    try:\n",
    "        bid, cnt, day = consumptions[-1]\n",
    "    except:\n",
    "        return [0, 150]\n",
    "    return [cnt * boxes_df.at[bid - 1, 'MEAT'], \n",
    "            end_day - day]\n",
    "\n",
    "last_meat_consumption(3588, 150)"
   ]
  },
  {
   "cell_type": "code",
   "execution_count": 30,
   "metadata": {},
   "outputs": [
    {
     "name": "stdout",
     "output_type": "stream",
     "text": [
      "[8.0, 27]\n"
     ]
    }
   ],
   "source": [
    "def last_milk_consumption(cid, end_day=150):\n",
    "    consumptions = list(filter(lambda x: x[2] < end_day and boxes_df.at[x[0] - 1, 'MILK'] > 0.0, purchases[cid]))\n",
    "    try:\n",
    "        bid, cnt, day = consumptions[-1]\n",
    "    except:\n",
    "        return [0, 150]\n",
    "    return [cnt * boxes_df.at[bid - 1, 'MILK'], \n",
    "            end_day - day]\n",
    "\n",
    "print(last_milk_consumption(3500, 150))"
   ]
  },
  {
   "cell_type": "code",
   "execution_count": 31,
   "metadata": {},
   "outputs": [],
   "source": [
    "def box_freq(cid, end_day):\n",
    "    consumptions = list(filter(lambda x: x[2] < end_day, purchases[cid]))\n",
    "    freq = [0 for _ in range(290)]\n",
    "    for i in range(len(consumptions)):\n",
    "        bid, _, _ = consumptions[i]\n",
    "        freq[bid-1] += 1\n",
    "    return freq"
   ]
  },
  {
   "cell_type": "code",
   "execution_count": 32,
   "metadata": {},
   "outputs": [],
   "source": [
    "val_day = 120\n",
    "\n",
    "def filter_val_idx(val_idx):\n",
    "    filtered_val_idx = []\n",
    "    for cid in val_idx:\n",
    "        if len(purchases[cid]) < 2:\n",
    "            continue\n",
    "        consumed_box_ids = box_consumed(cid, val_day, val_day+15)\n",
    "        if len(consumed_box_ids) != 1:\n",
    "            continue\n",
    "        filtered_val_idx.append(cid)\n",
    "    return filtered_val_idx"
   ]
  },
  {
   "cell_type": "code",
   "execution_count": 33,
   "metadata": {},
   "outputs": [
    {
     "name": "stdout",
     "output_type": "stream",
     "text": [
      "127410\n",
      "18756\n"
     ]
    }
   ],
   "source": [
    "split = int(len(purchases) * 0.1)\n",
    "idx = [i for i in range(len(purchases))]\n",
    "\n",
    "random.shuffle(idx)\n",
    "val_idx = idx[:split]\n",
    "val_idx = filter_val_idx(val_idx)\n",
    "train_idx = idx[split:]\n",
    "\n",
    "def generate_batch(day, batch_size, split='train'):\n",
    "    batch = []\n",
    "    labels = []\n",
    "    n = 0\n",
    "    current_idx = []\n",
    "    if split == 'train':\n",
    "        random.shuffle(train_idx)\n",
    "        current_idx = train_idx\n",
    "    else:\n",
    "        random.shuffle(val_idx)\n",
    "        current_idx = val_idx\n",
    "    for cid in current_idx:\n",
    "        if len(purchases[cid]) < 2:\n",
    "            continue\n",
    "        consumed_box_ids = box_consumed(cid, day, day+15)\n",
    "        if len(consumed_box_ids) != 1:\n",
    "            continue\n",
    "        meat_rate = meat_consumption_rate(cid, day)\n",
    "        milk_rate = milk_consumption_rate(cid, day)\n",
    "        last_meat = last_meat_consumption(cid, day)\n",
    "        last_milk = last_milk_consumption(cid, day)\n",
    "\n",
    "        features = [meat_rate, milk_rate]\n",
    "        features.extend(last_meat)\n",
    "        features.extend(last_milk)\n",
    "        features.extend(box_freq(cid, day))\n",
    "\n",
    "\n",
    "        batch.append(features)\n",
    "        labels.append(consumed_box_ids[0] - 1) # for mapping 1-290 to 0-289\n",
    "        n += 1\n",
    "        if split=='train' and n == batch_size:\n",
    "            return batch, labels\n",
    "    if split == 'train':\n",
    "        return None, None\n",
    "    else:\n",
    "        return batch, labels\n",
    "\n",
    "batch, labels = generate_batch(val_day, len(val_idx), 'val')\n",
    "print(split)\n",
    "print(len(batch))"
   ]
  },
  {
   "cell_type": "code",
   "execution_count": 34,
   "metadata": {},
   "outputs": [],
   "source": [
    "\n",
    "class BoxPredictor(torch.nn.Module):\n",
    "    def __init__(self):\n",
    "        super(BoxPredictor, self).__init__()\n",
    "        self.mlp = torch.nn.Sequential(\n",
    "            torch.nn.Linear(296, 512),\n",
    "            torch.nn.ReLU(),\n",
    "            torch.nn.Linear(512, 1024),\n",
    "            torch.nn.ReLU(),\n",
    "            torch.nn.Linear(1024, 1024),\n",
    "            torch.nn.ReLU(),\n",
    "            torch.nn.Linear(1024, 1024),\n",
    "            torch.nn.ReLU(),\n",
    "            torch.nn.Linear(1024, 512),\n",
    "            torch.nn.ReLU(),\n",
    "            torch.nn.Linear(512, 290)  # Change the final layer to have 290 output neurons\n",
    "        )\n",
    "\n",
    "    def forward(self, x):\n",
    "        return self.mlp(x)  # Removed reshape since we now handle classification"
   ]
  },
  {
   "cell_type": "code",
   "execution_count": 35,
   "metadata": {},
   "outputs": [
    {
     "name": "stderr",
     "output_type": "stream",
     "text": [
      "/home/brainiac77/miniconda3/envs/vision-1/lib/python3.12/site-packages/torch/cuda/__init__.py:141: UserWarning: CUDA initialization: CUDA unknown error - this may be due to an incorrectly set up environment, e.g. changing env variable CUDA_VISIBLE_DEVICES after program start. Setting the available devices to be zero. (Triggered internally at ../c10/cuda/CUDAFunctions.cpp:108.)\n",
      "  return torch._C._cuda_getDeviceCount() > 0\n"
     ]
    }
   ],
   "source": [
    "torch.cuda.empty_cache()\n",
    "gc.collect()\n",
    "\n",
    "# Assuming the model and generate_batch functions are defined correctly\n",
    "model = BoxPredictor()  # Ensure the model is defined\n",
    "if torch.cuda.is_available():\n",
    "    model.cuda()\n",
    "\n",
    "loss_fn = torch.nn.CrossEntropyLoss()\n",
    "optimizer = torch.optim.Adam(model.parameters(), lr=0.001)\n",
    "best_accuracy = 0  # Track best accuracy instead of loss for model selection\n",
    "batch_size = 256\n",
    "epochs = 0\n",
    "model_save_dir = '../models/'\n",
    "if not os.path.exists(model_save_dir):\n",
    "    os.makedirs(model_save_dir)\n",
    "\n",
    "# Preparing validation data\n",
    "val, val_labels = generate_batch(val_day, len(val_idx), 'val')\n",
    "val = torch.tensor(val, dtype=torch.float32)\n",
    "val_labels = torch.tensor(val_labels, dtype=torch.long)  # Labels should be long for CrossEntropyLoss\n",
    "if torch.cuda.is_available():\n",
    "    val = val.cuda()\n",
    "    val_labels = val_labels.cuda()\n",
    "\n",
    "for epoch in range(epochs):\n",
    "    batch, labels = generate_batch(random.randint(70, 136), batch_size, 'train')\n",
    "    if batch is None or labels is None:\n",
    "        continue\n",
    "    batch = torch.tensor(batch, dtype=torch.float32)\n",
    "    labels = torch.tensor(labels, dtype=torch.long)  # Labels should be long for CrossEntropyLoss\n",
    "    if torch.cuda.is_available():\n",
    "        batch = batch.cuda()\n",
    "        labels = labels.cuda()\n",
    "\n",
    "    optimizer.zero_grad()\n",
    "    outputs = model(batch)\n",
    "    loss = loss_fn(outputs, labels)\n",
    "    loss.backward()\n",
    "    optimizer.step()\n",
    "\n",
    "    # Printing training loss more frequently\n",
    "    if epoch % 2 == 0:\n",
    "        print(f\"Epoch {epoch} | Training loss: {loss.item()}\")\n",
    "\n",
    "    # Validation check\n",
    "    if epoch % 5 == 0:\n",
    "        model.eval()\n",
    "        with torch.no_grad():\n",
    "            val_outputs = model(val)\n",
    "            val_loss = loss_fn(val_outputs, val_labels)\n",
    "            # Calculate validation accuracy\n",
    "            _, predicted = torch.max(val_outputs, 1)\n",
    "            correct = (predicted == val_labels).sum().item()\n",
    "            total = val_labels.size(0)\n",
    "            accuracy = correct / total\n",
    "            print(f\"\\nEpoch {epoch} | Validation loss: {val_loss.item()}, Accuracy: {accuracy}\\n\")\n",
    "\n",
    "            # Save the best model based on accuracy\n",
    "            if accuracy > best_accuracy:\n",
    "                torch.save(model.state_dict(), f'{model_save_dir}box_predictor.pth')\n",
    "                best_accuracy = accuracy\n",
    "                print(f\"Best model updated with accuracy: {accuracy}\")\n",
    "\n",
    "        model.train()\n"
   ]
  },
  {
   "cell_type": "code",
   "execution_count": 36,
   "metadata": {},
   "outputs": [
    {
     "data": {
      "text/plain": [
       "<All keys matched successfully>"
      ]
     },
     "execution_count": 36,
     "metadata": {},
     "output_type": "execute_result"
    }
   ],
   "source": [
    "model.load_state_dict(torch.load(f'{model_save_dir}box_predictor-0.560244.pth'))"
   ]
  },
  {
   "cell_type": "code",
   "execution_count": 39,
   "metadata": {},
   "outputs": [],
   "source": [
    "def predict(cid, day):\n",
    "    model.eval()  # Ensure the model is in evaluation mode\n",
    "    meat_rate = meat_consumption_rate(cid, day)\n",
    "    milk_rate = milk_consumption_rate(cid, day)\n",
    "    last_meat = last_meat_consumption(cid, day)\n",
    "    last_milk = last_milk_consumption(cid, day)\n",
    "    features = [meat_rate, milk_rate]\n",
    "    features.extend(last_meat)\n",
    "    features.extend(last_milk)\n",
    "    features.extend(box_freq(cid, day))\n",
    "    batch = [features]\n",
    "    batch = torch.tensor(batch, dtype=torch.float32)\n",
    "    \n",
    "    if torch.cuda.is_available():\n",
    "        batch = batch.cuda()  # Move batch to GPU if CUDA is available\n",
    "    \n",
    "    with torch.no_grad():  # Turn off gradients for prediction to save memory and computations\n",
    "        outputs = model(batch)\n",
    "        _, predicted_indices = torch.max(outputs, 1)  # Get the index of the max logit\n",
    "    \n",
    "    predicted_box_id = predicted_indices.item()  # Convert tensor to integer\n",
    "    predicted_box_id += 1 # mapping box id 0-289 to 1-290\n",
    "    return predicted_box_id"
   ]
  },
  {
   "cell_type": "code",
   "execution_count": 40,
   "metadata": {},
   "outputs": [],
   "source": [
    "data = []\n",
    "for cid in prob2_customers:\n",
    "    data.append({\n",
    "        'MAGIC_KEY': customer_keys[cid],\n",
    "        'BOX_ID': predict(cid, 151)\n",
    "    })\n",
    "sub_df = pd.DataFrame(data, columns=['MAGIC_KEY', 'BOX_ID'])\n",
    "sub_df.to_csv('../submissions/submission-2.csv', index=False)"
   ]
  },
  {
   "cell_type": "code",
   "execution_count": null,
   "metadata": {},
   "outputs": [],
   "source": []
  }
 ],
 "metadata": {
  "kernelspec": {
   "display_name": "base",
   "language": "python",
   "name": "python3"
  },
  "language_info": {
   "codemirror_mode": {
    "name": "ipython",
    "version": 3
   },
   "file_extension": ".py",
   "mimetype": "text/x-python",
   "name": "python",
   "nbconvert_exporter": "python",
   "pygments_lexer": "ipython3",
   "version": "3.12.1"
  }
 },
 "nbformat": 4,
 "nbformat_minor": 2
}

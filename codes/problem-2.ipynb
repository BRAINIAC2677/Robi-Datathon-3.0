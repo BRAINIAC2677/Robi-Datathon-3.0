{
 "cells": [
  {
   "cell_type": "code",
   "execution_count": 1,
   "metadata": {},
   "outputs": [
    {
     "name": "stderr",
     "output_type": "stream",
     "text": [
      "/tmp/user/1000/ipykernel_46486/2467509857.py:4: DeprecationWarning: \n",
      "Pyarrow will become a required dependency of pandas in the next major release of pandas (pandas 3.0),\n",
      "(to allow more performant data types, such as the Arrow string type, and better interoperability with other libraries)\n",
      "but was not found to be installed on your system.\n",
      "If this would cause problems for you,\n",
      "please provide us feedback at https://github.com/pandas-dev/pandas/issues/54466\n",
      "        \n",
      "  import pandas as pd # data processing, CSV file I/O (e.g. pd.read_csv)\n"
     ]
    }
   ],
   "source": [
    "import torch\n",
    "import random\n",
    "import datetime\n",
    "import pandas as pd # data processing, CSV file I/O (e.g. pd.read_csv)"
   ]
  },
  {
   "cell_type": "code",
   "execution_count": 2,
   "metadata": {},
   "outputs": [],
   "source": [
    "purchase_df = pd.read_csv('../data/purchase.csv')\n",
    "boxes_df = pd.read_csv('../data/boxes.csv')"
   ]
  },
  {
   "cell_type": "code",
   "execution_count": 3,
   "metadata": {},
   "outputs": [
    {
     "data": {
      "text/html": [
       "<div>\n",
       "<style scoped>\n",
       "    .dataframe tbody tr th:only-of-type {\n",
       "        vertical-align: middle;\n",
       "    }\n",
       "\n",
       "    .dataframe tbody tr th {\n",
       "        vertical-align: top;\n",
       "    }\n",
       "\n",
       "    .dataframe thead th {\n",
       "        text-align: right;\n",
       "    }\n",
       "</style>\n",
       "<table border=\"1\" class=\"dataframe\">\n",
       "  <thead>\n",
       "    <tr style=\"text-align: right;\">\n",
       "      <th></th>\n",
       "      <th>PURCHASE_DATE</th>\n",
       "      <th>MAGIC_KEY</th>\n",
       "      <th>BOX_ID</th>\n",
       "      <th>BOX_COUNT</th>\n",
       "    </tr>\n",
       "  </thead>\n",
       "  <tbody>\n",
       "    <tr>\n",
       "      <th>0</th>\n",
       "      <td>1/2/2019</td>\n",
       "      <td>2CED678A247</td>\n",
       "      <td>12.0</td>\n",
       "      <td>1.0</td>\n",
       "    </tr>\n",
       "    <tr>\n",
       "      <th>1</th>\n",
       "      <td>1/2/2019</td>\n",
       "      <td>2BF58D91BA1</td>\n",
       "      <td>12.0</td>\n",
       "      <td>1.0</td>\n",
       "    </tr>\n",
       "    <tr>\n",
       "      <th>2</th>\n",
       "      <td>1/2/2019</td>\n",
       "      <td>2C15B86534E</td>\n",
       "      <td>99.0</td>\n",
       "      <td>1.0</td>\n",
       "    </tr>\n",
       "    <tr>\n",
       "      <th>3</th>\n",
       "      <td>1/2/2019</td>\n",
       "      <td>2C32D9A859A</td>\n",
       "      <td>6.0</td>\n",
       "      <td>1.0</td>\n",
       "    </tr>\n",
       "    <tr>\n",
       "      <th>4</th>\n",
       "      <td>1/2/2019</td>\n",
       "      <td>2C7A55404D1</td>\n",
       "      <td>4.0</td>\n",
       "      <td>1.0</td>\n",
       "    </tr>\n",
       "  </tbody>\n",
       "</table>\n",
       "</div>"
      ],
      "text/plain": [
       "  PURCHASE_DATE    MAGIC_KEY  BOX_ID  BOX_COUNT\n",
       "0      1/2/2019  2CED678A247    12.0        1.0\n",
       "1      1/2/2019  2BF58D91BA1    12.0        1.0\n",
       "2      1/2/2019  2C15B86534E    99.0        1.0\n",
       "3      1/2/2019  2C32D9A859A     6.0        1.0\n",
       "4      1/2/2019  2C7A55404D1     4.0        1.0"
      ]
     },
     "execution_count": 3,
     "metadata": {},
     "output_type": "execute_result"
    }
   ],
   "source": [
    "purchase_df.head()"
   ]
  },
  {
   "cell_type": "code",
   "execution_count": 4,
   "metadata": {},
   "outputs": [],
   "source": [
    "base_date = datetime.date(2018, 10, 1)\n",
    "purchase_df['day'] = purchase_df['PURCHASE_DATE'].apply(lambda x: (datetime.datetime.strptime(x, '%d/%m/%Y').date() - base_date).days)"
   ]
  },
  {
   "cell_type": "code",
   "execution_count": 5,
   "metadata": {},
   "outputs": [
    {
     "data": {
      "text/html": [
       "<div>\n",
       "<style scoped>\n",
       "    .dataframe tbody tr th:only-of-type {\n",
       "        vertical-align: middle;\n",
       "    }\n",
       "\n",
       "    .dataframe tbody tr th {\n",
       "        vertical-align: top;\n",
       "    }\n",
       "\n",
       "    .dataframe thead th {\n",
       "        text-align: right;\n",
       "    }\n",
       "</style>\n",
       "<table border=\"1\" class=\"dataframe\">\n",
       "  <thead>\n",
       "    <tr style=\"text-align: right;\">\n",
       "      <th></th>\n",
       "      <th>PURCHASE_DATE</th>\n",
       "      <th>MAGIC_KEY</th>\n",
       "      <th>BOX_ID</th>\n",
       "      <th>BOX_COUNT</th>\n",
       "      <th>day</th>\n",
       "    </tr>\n",
       "  </thead>\n",
       "  <tbody>\n",
       "    <tr>\n",
       "      <th>1741384</th>\n",
       "      <td>7/11/2018</td>\n",
       "      <td>2CE529D89A2</td>\n",
       "      <td>27.0</td>\n",
       "      <td>1.0</td>\n",
       "      <td>37</td>\n",
       "    </tr>\n",
       "    <tr>\n",
       "      <th>1871291</th>\n",
       "      <td>4/11/2018</td>\n",
       "      <td>2CE39348617</td>\n",
       "      <td>15.0</td>\n",
       "      <td>1.0</td>\n",
       "      <td>34</td>\n",
       "    </tr>\n",
       "    <tr>\n",
       "      <th>2115211</th>\n",
       "      <td>13/10/2018</td>\n",
       "      <td>2C96F6AC4D6</td>\n",
       "      <td>131.0</td>\n",
       "      <td>1.0</td>\n",
       "      <td>12</td>\n",
       "    </tr>\n",
       "    <tr>\n",
       "      <th>591494</th>\n",
       "      <td>1/1/2019</td>\n",
       "      <td>2CE990D19E6</td>\n",
       "      <td>104.0</td>\n",
       "      <td>1.0</td>\n",
       "      <td>92</td>\n",
       "    </tr>\n",
       "    <tr>\n",
       "      <th>657323</th>\n",
       "      <td>4/1/2019</td>\n",
       "      <td>2C7FD47464E</td>\n",
       "      <td>89.0</td>\n",
       "      <td>1.0</td>\n",
       "      <td>95</td>\n",
       "    </tr>\n",
       "    <tr>\n",
       "      <th>2041807</th>\n",
       "      <td>6/10/2018</td>\n",
       "      <td>29782768084</td>\n",
       "      <td>260.0</td>\n",
       "      <td>1.0</td>\n",
       "      <td>5</td>\n",
       "    </tr>\n",
       "    <tr>\n",
       "      <th>2454743</th>\n",
       "      <td>30/10/2018</td>\n",
       "      <td>28DE6800B62</td>\n",
       "      <td>246.0</td>\n",
       "      <td>1.0</td>\n",
       "      <td>29</td>\n",
       "    </tr>\n",
       "    <tr>\n",
       "      <th>214610</th>\n",
       "      <td>11/2/2019</td>\n",
       "      <td>2C98D359845</td>\n",
       "      <td>144.0</td>\n",
       "      <td>1.0</td>\n",
       "      <td>133</td>\n",
       "    </tr>\n",
       "    <tr>\n",
       "      <th>2136506</th>\n",
       "      <td>12/10/2018</td>\n",
       "      <td>2C7CF9A0CB5</td>\n",
       "      <td>89.0</td>\n",
       "      <td>1.0</td>\n",
       "      <td>11</td>\n",
       "    </tr>\n",
       "    <tr>\n",
       "      <th>2386149</th>\n",
       "      <td>22/10/2018</td>\n",
       "      <td>2C1DF6A0DB2</td>\n",
       "      <td>89.0</td>\n",
       "      <td>1.0</td>\n",
       "      <td>21</td>\n",
       "    </tr>\n",
       "  </tbody>\n",
       "</table>\n",
       "</div>"
      ],
      "text/plain": [
       "        PURCHASE_DATE    MAGIC_KEY  BOX_ID  BOX_COUNT  day\n",
       "1741384     7/11/2018  2CE529D89A2    27.0        1.0   37\n",
       "1871291     4/11/2018  2CE39348617    15.0        1.0   34\n",
       "2115211    13/10/2018  2C96F6AC4D6   131.0        1.0   12\n",
       "591494       1/1/2019  2CE990D19E6   104.0        1.0   92\n",
       "657323       4/1/2019  2C7FD47464E    89.0        1.0   95\n",
       "2041807     6/10/2018  29782768084   260.0        1.0    5\n",
       "2454743    30/10/2018  28DE6800B62   246.0        1.0   29\n",
       "214610      11/2/2019  2C98D359845   144.0        1.0  133\n",
       "2136506    12/10/2018  2C7CF9A0CB5    89.0        1.0   11\n",
       "2386149    22/10/2018  2C1DF6A0DB2    89.0        1.0   21"
      ]
     },
     "execution_count": 5,
     "metadata": {},
     "output_type": "execute_result"
    }
   ],
   "source": [
    "purchase_df.sample(10)"
   ]
  },
  {
   "cell_type": "code",
   "execution_count": 6,
   "metadata": {},
   "outputs": [],
   "source": [
    "purchase_df.drop(['PURCHASE_DATE'], axis=1, inplace=True)"
   ]
  },
  {
   "cell_type": "code",
   "execution_count": 7,
   "metadata": {},
   "outputs": [],
   "source": [
    "customer_keys = purchase_df['MAGIC_KEY'].unique()\n",
    "customer_ids = {customer_keys[i]: i for i in range(len(customer_keys))}"
   ]
  },
  {
   "cell_type": "code",
   "execution_count": 8,
   "metadata": {},
   "outputs": [],
   "source": [
    "purchase_df.drop(purchase_df[purchase_df['BOX_ID'].isnull()].index, inplace=True)\n",
    "purchase_df.drop(purchase_df[purchase_df['BOX_COUNT'] < 0].index, inplace=True)"
   ]
  },
  {
   "cell_type": "code",
   "execution_count": 9,
   "metadata": {},
   "outputs": [],
   "source": [
    "purchase_df['BOX_COUNT'] = purchase_df['BOX_COUNT'].astype(int)\n",
    "purchase_df['BOX_ID'] = purchase_df['BOX_ID'].astype(int)"
   ]
  },
  {
   "cell_type": "code",
   "execution_count": 10,
   "metadata": {},
   "outputs": [
    {
     "data": {
      "text/html": [
       "<div>\n",
       "<style scoped>\n",
       "    .dataframe tbody tr th:only-of-type {\n",
       "        vertical-align: middle;\n",
       "    }\n",
       "\n",
       "    .dataframe tbody tr th {\n",
       "        vertical-align: top;\n",
       "    }\n",
       "\n",
       "    .dataframe thead th {\n",
       "        text-align: right;\n",
       "    }\n",
       "</style>\n",
       "<table border=\"1\" class=\"dataframe\">\n",
       "  <thead>\n",
       "    <tr style=\"text-align: right;\">\n",
       "      <th></th>\n",
       "      <th>MAGIC_KEY</th>\n",
       "      <th>BOX_ID</th>\n",
       "      <th>BOX_COUNT</th>\n",
       "      <th>day</th>\n",
       "    </tr>\n",
       "  </thead>\n",
       "  <tbody>\n",
       "    <tr>\n",
       "      <th>1655756</th>\n",
       "      <td>2C50AFE8646</td>\n",
       "      <td>143</td>\n",
       "      <td>1</td>\n",
       "      <td>34</td>\n",
       "    </tr>\n",
       "    <tr>\n",
       "      <th>1721387</th>\n",
       "      <td>2BF15540ABD</td>\n",
       "      <td>107</td>\n",
       "      <td>1</td>\n",
       "      <td>46</td>\n",
       "    </tr>\n",
       "    <tr>\n",
       "      <th>1707671</th>\n",
       "      <td>2C990B61FAD</td>\n",
       "      <td>106</td>\n",
       "      <td>1</td>\n",
       "      <td>58</td>\n",
       "    </tr>\n",
       "    <tr>\n",
       "      <th>1636872</th>\n",
       "      <td>2C031C02A12</td>\n",
       "      <td>143</td>\n",
       "      <td>1</td>\n",
       "      <td>44</td>\n",
       "    </tr>\n",
       "    <tr>\n",
       "      <th>646785</th>\n",
       "      <td>2C75F6566C2</td>\n",
       "      <td>144</td>\n",
       "      <td>1</td>\n",
       "      <td>95</td>\n",
       "    </tr>\n",
       "    <tr>\n",
       "      <th>1737998</th>\n",
       "      <td>2C2DE387128</td>\n",
       "      <td>103</td>\n",
       "      <td>1</td>\n",
       "      <td>56</td>\n",
       "    </tr>\n",
       "    <tr>\n",
       "      <th>586004</th>\n",
       "      <td>2C1206A0550</td>\n",
       "      <td>108</td>\n",
       "      <td>1</td>\n",
       "      <td>150</td>\n",
       "    </tr>\n",
       "    <tr>\n",
       "      <th>2005861</th>\n",
       "      <td>2C15BB3C1BF</td>\n",
       "      <td>37</td>\n",
       "      <td>1</td>\n",
       "      <td>4</td>\n",
       "    </tr>\n",
       "    <tr>\n",
       "      <th>480637</th>\n",
       "      <td>2CB516E3396</td>\n",
       "      <td>76</td>\n",
       "      <td>1</td>\n",
       "      <td>147</td>\n",
       "    </tr>\n",
       "    <tr>\n",
       "      <th>1046457</th>\n",
       "      <td>2CB96E5679A</td>\n",
       "      <td>162</td>\n",
       "      <td>1</td>\n",
       "      <td>119</td>\n",
       "    </tr>\n",
       "  </tbody>\n",
       "</table>\n",
       "</div>"
      ],
      "text/plain": [
       "           MAGIC_KEY  BOX_ID  BOX_COUNT  day\n",
       "1655756  2C50AFE8646     143          1   34\n",
       "1721387  2BF15540ABD     107          1   46\n",
       "1707671  2C990B61FAD     106          1   58\n",
       "1636872  2C031C02A12     143          1   44\n",
       "646785   2C75F6566C2     144          1   95\n",
       "1737998  2C2DE387128     103          1   56\n",
       "586004   2C1206A0550     108          1  150\n",
       "2005861  2C15BB3C1BF      37          1    4\n",
       "480637   2CB516E3396      76          1  147\n",
       "1046457  2CB96E5679A     162          1  119"
      ]
     },
     "execution_count": 10,
     "metadata": {},
     "output_type": "execute_result"
    }
   ],
   "source": [
    "purchase_df.sample(10)"
   ]
  },
  {
   "cell_type": "code",
   "execution_count": 11,
   "metadata": {},
   "outputs": [
    {
     "data": {
      "text/plain": [
       "1274087"
      ]
     },
     "execution_count": 11,
     "metadata": {},
     "output_type": "execute_result"
    }
   ],
   "source": [
    "len(purchase_df['MAGIC_KEY'].unique())"
   ]
  },
  {
   "cell_type": "code",
   "execution_count": 12,
   "metadata": {},
   "outputs": [
    {
     "data": {
      "text/plain": [
       "2455800"
      ]
     },
     "execution_count": 12,
     "metadata": {},
     "output_type": "execute_result"
    }
   ],
   "source": [
    "len(purchase_df)"
   ]
  },
  {
   "cell_type": "code",
   "execution_count": 13,
   "metadata": {},
   "outputs": [
    {
     "data": {
      "text/plain": [
       "0          None\n",
       "1          None\n",
       "2          None\n",
       "3          None\n",
       "4          None\n",
       "           ... \n",
       "2455859    None\n",
       "2455860    None\n",
       "2455861    None\n",
       "2455862    None\n",
       "2455863    None\n",
       "Length: 2455800, dtype: object"
      ]
     },
     "execution_count": 13,
     "metadata": {},
     "output_type": "execute_result"
    }
   ],
   "source": [
    "purchases = [[] for _ in range(len(customer_keys))]\n",
    "purchase_df.apply(lambda x: purchases[customer_ids[x['MAGIC_KEY']]].append((x['BOX_ID'], x['BOX_COUNT'], x['day'])), axis=1)"
   ]
  },
  {
   "cell_type": "code",
   "execution_count": 14,
   "metadata": {},
   "outputs": [
    {
     "data": {
      "text/html": [
       "<div>\n",
       "<style scoped>\n",
       "    .dataframe tbody tr th:only-of-type {\n",
       "        vertical-align: middle;\n",
       "    }\n",
       "\n",
       "    .dataframe tbody tr th {\n",
       "        vertical-align: top;\n",
       "    }\n",
       "\n",
       "    .dataframe thead th {\n",
       "        text-align: right;\n",
       "    }\n",
       "</style>\n",
       "<table border=\"1\" class=\"dataframe\">\n",
       "  <thead>\n",
       "    <tr style=\"text-align: right;\">\n",
       "      <th></th>\n",
       "      <th>MAGIC_KEY</th>\n",
       "    </tr>\n",
       "  </thead>\n",
       "  <tbody>\n",
       "    <tr>\n",
       "      <th>0</th>\n",
       "      <td>2C0B5F97180</td>\n",
       "    </tr>\n",
       "    <tr>\n",
       "      <th>1</th>\n",
       "      <td>2C2F659EF00</td>\n",
       "    </tr>\n",
       "    <tr>\n",
       "      <th>2</th>\n",
       "      <td>29D629EDF20</td>\n",
       "    </tr>\n",
       "    <tr>\n",
       "      <th>3</th>\n",
       "      <td>2A7073E2FF0</td>\n",
       "    </tr>\n",
       "    <tr>\n",
       "      <th>4</th>\n",
       "      <td>2A9B9BE1210</td>\n",
       "    </tr>\n",
       "  </tbody>\n",
       "</table>\n",
       "</div>"
      ],
      "text/plain": [
       "     MAGIC_KEY\n",
       "0  2C0B5F97180\n",
       "1  2C2F659EF00\n",
       "2  29D629EDF20\n",
       "3  2A7073E2FF0\n",
       "4  2A9B9BE1210"
      ]
     },
     "execution_count": 14,
     "metadata": {},
     "output_type": "execute_result"
    }
   ],
   "source": [
    "prob2_df =pd.read_csv('../data/problem 2.csv')\n",
    "prob2_df.head()"
   ]
  },
  {
   "cell_type": "code",
   "execution_count": 15,
   "metadata": {},
   "outputs": [
    {
     "data": {
      "text/plain": [
       "43518"
      ]
     },
     "execution_count": 15,
     "metadata": {},
     "output_type": "execute_result"
    }
   ],
   "source": [
    "len(prob2_df)"
   ]
  },
  {
   "cell_type": "code",
   "execution_count": 16,
   "metadata": {},
   "outputs": [
    {
     "data": {
      "text/plain": [
       "43518"
      ]
     },
     "execution_count": 16,
     "metadata": {},
     "output_type": "execute_result"
    }
   ],
   "source": [
    "prob3_customers = [customer_ids[x] for x in prob2_df['MAGIC_KEY'].unique()]\n",
    "len(prob3_customers)"
   ]
  },
  {
   "cell_type": "code",
   "execution_count": 17,
   "metadata": {},
   "outputs": [
    {
     "name": "stderr",
     "output_type": "stream",
     "text": [
      "Matplotlib is building the font cache; this may take a moment.\n"
     ]
    },
    {
     "data": {
      "image/png": "[encoded data removed]",
      "text/plain": [
       "<Figure size 640x480 with 1 Axes>"
      ]
     },
     "metadata": {},
     "output_type": "display_data"
    }
   ],
   "source": [
    "purchase_counts = {}\n",
    "for i, _ in enumerate(purchases):\n",
    "    cnt = len(purchases[i])\n",
    "    if cnt not in purchase_counts:\n",
    "        purchase_counts[cnt] = 1\n",
    "    else:\n",
    "        purchase_counts[cnt] += 1\n",
    "\n",
    "#generate bar plot from purchase counts\n",
    "        \n",
    "import matplotlib.pyplot as plt\n",
    "plt.bar(purchase_counts.keys(), purchase_counts.values())\n",
    "plt.show()"
   ]
  },
  {
   "cell_type": "code",
   "execution_count": 18,
   "metadata": {},
   "outputs": [],
   "source": [
    "for i, _ in enumerate(purchases):\n",
    "    purchases[i].sort(key=lambda x: x[2])"
   ]
  },
  {
   "cell_type": "code",
   "execution_count": 19,
   "metadata": {},
   "outputs": [
    {
     "name": "stdout",
     "output_type": "stream",
     "text": [
      "single purchase: \n",
      "0 [(12, 1, 123)]\n",
      "1 [(12, 1, 123)]\n",
      "3 [(6, 1, 123)]\n",
      "4 [(4, 1, 123)]\n",
      "6 [(227, 1, 123)]\n",
      "7 [(6, 1, 123)]\n",
      "10 [(12, 1, 123)]\n",
      "11 [(231, 1, 123)]\n",
      "13 [(278, 1, 123)]\n",
      "16 [(231, 1, 123)]\n",
      "more than 5 purchase: \n",
      "5 [(238, 1, 14), (238, 1, 36), (238, 1, 56), (238, 1, 80), (238, 1, 100), (238, 1, 123)]\n",
      "14 [(203, 1, 35), (203, 1, 53), (203, 1, 63), (221, 1, 72), (203, 1, 81), (203, 1, 87), (238, 1, 97), (204, 1, 123), (204, 1, 135), (272, 1, 150)]\n",
      "38 [(8, 1, 15), (8, 1, 30), (8, 1, 60), (8, 1, 82), (8, 1, 104), (8, 1, 123)]\n",
      "39 [(238, 1, 20), (238, 1, 44), (268, 1, 54), (238, 1, 67), (238, 1, 76), (238, 1, 89), (238, 1, 98), (238, 1, 105), (228, 1, 123), (238, 1, 129), (238, 1, 133), (238, 1, 138), (238, 1, 142), (230, 1, 147), (238, 1, 150)]\n",
      "42 [(260, 1, 8), (203, 1, 23), (221, 1, 38), (221, 1, 65), (271, 1, 84), (272, 1, 104), (221, 1, 123), (276, 1, 145)]\n",
      "43 [(137, 1, 6), (137, 1, 23), (137, 1, 42), (137, 1, 62), (137, 1, 79), (174, 1, 97), (174, 1, 123)]\n",
      "44 [(238, 1, 18), (238, 1, 102), (228, 1, 108), (228, 1, 115), (228, 1, 118), (228, 1, 120), (228, 1, 123), (228, 1, 125), (230, 1, 129), (230, 1, 134), (230, 1, 137), (230, 1, 139), (230, 1, 141), (230, 1, 145), (230, 1, 148)]\n",
      "47 [(106, 1, 41), (103, 1, 71), (106, 1, 101), (106, 1, 112), (106, 1, 123), (106, 1, 132)]\n",
      "48 [(106, 1, 18), (106, 1, 40), (103, 1, 71), (106, 1, 100), (106, 1, 123), (108, 1, 150)]\n",
      "51 [(89, 1, 24), (89, 1, 50), (89, 1, 70), (89, 1, 80), (89, 1, 90), (89, 1, 94), (89, 1, 105), (89, 1, 123), (9, 1, 139)]\n"
     ]
    }
   ],
   "source": [
    "a = 10\n",
    "b = 10\n",
    "print(\"single purchase: \")\n",
    "for i, p in enumerate(purchases):\n",
    "    if len(p) == 1:\n",
    "        if a > 0:\n",
    "            print(i, p)\n",
    "            a -= 1\n",
    "\n",
    "print(\"more than 5 purchase: \")\n",
    "for i, p in enumerate(purchases):\n",
    "    if len(p) > 5:\n",
    "        if b > 0:\n",
    "            print(i, p)\n",
    "            b -= 1\n"
   ]
  },
  {
   "cell_type": "code",
   "execution_count": 20,
   "metadata": {},
   "outputs": [
    {
     "data": {
      "text/html": [
       "<div>\n",
       "<style scoped>\n",
       "    .dataframe tbody tr th:only-of-type {\n",
       "        vertical-align: middle;\n",
       "    }\n",
       "\n",
       "    .dataframe tbody tr th {\n",
       "        vertical-align: top;\n",
       "    }\n",
       "\n",
       "    .dataframe thead th {\n",
       "        text-align: right;\n",
       "    }\n",
       "</style>\n",
       "<table border=\"1\" class=\"dataframe\">\n",
       "  <thead>\n",
       "    <tr style=\"text-align: right;\">\n",
       "      <th></th>\n",
       "      <th>BOX_ID</th>\n",
       "      <th>QUALITY</th>\n",
       "      <th>DELIVERY_OPTION</th>\n",
       "      <th>MILK</th>\n",
       "      <th>MEAT</th>\n",
       "      <th>UNIT_PRICE</th>\n",
       "    </tr>\n",
       "  </thead>\n",
       "  <tbody>\n",
       "    <tr>\n",
       "      <th>109</th>\n",
       "      <td>110</td>\n",
       "      <td>Premium</td>\n",
       "      <td>Delivery from Collection Point</td>\n",
       "      <td>0.0</td>\n",
       "      <td>4.4</td>\n",
       "      <td>15.96</td>\n",
       "    </tr>\n",
       "    <tr>\n",
       "      <th>110</th>\n",
       "      <td>111</td>\n",
       "      <td>Premium</td>\n",
       "      <td>Delivery from Collection Point</td>\n",
       "      <td>0.0</td>\n",
       "      <td>4.7</td>\n",
       "      <td>15.96</td>\n",
       "    </tr>\n",
       "  </tbody>\n",
       "</table>\n",
       "</div>"
      ],
      "text/plain": [
       "     BOX_ID  QUALITY                 DELIVERY_OPTION  MILK  MEAT  UNIT_PRICE\n",
       "109     110  Premium  Delivery from Collection Point   0.0   4.4       15.96\n",
       "110     111  Premium  Delivery from Collection Point   0.0   4.7       15.96"
      ]
     },
     "execution_count": 20,
     "metadata": {},
     "output_type": "execute_result"
    }
   ],
   "source": [
    "boxes_df[109:111]"
   ]
  },
  {
   "cell_type": "code",
   "execution_count": 21,
   "metadata": {},
   "outputs": [
    {
     "data": {
      "text/plain": [
       "290"
      ]
     },
     "execution_count": 21,
     "metadata": {},
     "output_type": "execute_result"
    }
   ],
   "source": [
    "len(boxes_df)"
   ]
  },
  {
   "cell_type": "code",
   "execution_count": 22,
   "metadata": {},
   "outputs": [],
   "source": [
    "def meat_consumed(cid, start_day, end_day):\n",
    "    boxes = filter(lambda x: x[2] >= start_day and x[2] < end_day, purchases[cid])\n",
    "    meat_consumed = 0\n",
    "    for id, cnt, _ in boxes:\n",
    "        meat_consumed += cnt * boxes_df.at[id - 1, 'MEAT']\n",
    "    return meat_consumed\n",
    "\n",
    "def meat_consumption_rate(cid, end_day=151):\n",
    "    if len(purchases[cid]) == 0:\n",
    "        return 0.0\n",
    "    start = purchases[cid][0][2]\n",
    "    return meat_consumed(cid, start, end_day) / (end_day - start)"
   ]
  },
  {
   "cell_type": "code",
   "execution_count": 23,
   "metadata": {},
   "outputs": [
    {
     "data": {
      "text/plain": [
       "150"
      ]
     },
     "execution_count": 23,
     "metadata": {},
     "output_type": "execute_result"
    }
   ],
   "source": [
    "last_day = purchase_df['day'].max()\n",
    "last_day"
   ]
  },
  {
   "cell_type": "code",
   "execution_count": 24,
   "metadata": {},
   "outputs": [
    {
     "data": {
      "text/plain": [
       "150"
      ]
     },
     "execution_count": 24,
     "metadata": {},
     "output_type": "execute_result"
    }
   ],
   "source": [
    "last_date = datetime.date(2019, 2, 28)\n",
    "(last_date - base_date).days"
   ]
  },
  {
   "cell_type": "code",
   "execution_count": 25,
   "metadata": {},
   "outputs": [
    {
     "data": {
      "text/plain": [
       "0"
      ]
     },
     "execution_count": 25,
     "metadata": {},
     "output_type": "execute_result"
    }
   ],
   "source": [
    "first_day = purchase_df['day'].min()\n",
    "first_day"
   ]
  },
  {
   "cell_type": "code",
   "execution_count": 26,
   "metadata": {},
   "outputs": [
    {
     "data": {
      "text/plain": [
       "0.05357142857142857"
      ]
     },
     "execution_count": 26,
     "metadata": {},
     "output_type": "execute_result"
    }
   ],
   "source": [
    "meat_consumption_rate(0)"
   ]
  },
  {
   "cell_type": "code",
   "execution_count": 27,
   "metadata": {},
   "outputs": [
    {
     "data": {
      "text/plain": [
       "[4.4, 1, 27, 0, 1, 15.96]"
      ]
     },
     "execution_count": 27,
     "metadata": {},
     "output_type": "execute_result"
    }
   ],
   "source": [
    "def last_meat_consumption(cid, end_day=150):\n",
    "    consumptions = list(filter(lambda x: x[2] < end_day and boxes_df.at[x[0] - 1, 'MEAT'] > 0.0, purchases[cid]))\n",
    "    try:\n",
    "        bid, cnt, day = consumptions[-1]\n",
    "    except:\n",
    "        return None\n",
    "    return [cnt * boxes_df.at[bid - 1, 'MEAT'], \n",
    "            cnt,\n",
    "            end_day - day,\n",
    "            int(boxes_df.at[bid - 1, 'QUALITY'] == 'Standard'), \n",
    "            int('CoD' not in str(boxes_df.at[bid - 1, 'DELIVERY_OPTION'])), \n",
    "            float(boxes_df.at[bid - 1, 'UNIT_PRICE'])]\n",
    "last_meat_consumption(3588, 150)"
   ]
  },
  {
   "cell_type": "code",
   "execution_count": 35,
   "metadata": {},
   "outputs": [
    {
     "name": "stdout",
     "output_type": "stream",
     "text": [
      "[[0.12000000000000001, 1.8, 1, 15, 0, 1, 19.98], [0.1285714285714286, 1.8, 1, 14, 0, 1, 19.98], [0.18, 1.8, 1, 10, 0, 1, 19.98], [0.3, 1.8, 1, 6, 1, 1, 17.98], [0.32727272727272727, 3.6, 1, 11, 0, 1, 15.96], [0.2, 1.8, 1, 9, 0, 1, 19.98], [0.23636363636363636, 1.3, 1, 10, 0, 0, 15.98], [0.12000000000000001, 1.8, 1, 15, 1, 1, 17.98], [0.1285714285714286, 1.8, 1, 14, 1, 1, 17.98], [0.2, 1.8, 1, 9, 1, 1, 17.98]]\n",
      "[2.0, 1.8, 1.8, 2.2, 4.0, 1.8, 2.0, 2.2, 1.8, 2.2]\n"
     ]
    }
   ],
   "source": [
    "split = int(len(purchases) * 0.1)\n",
    "idx = [i for i in range(len(purchases))]\n",
    "random.shuffle(idx)\n",
    "val_idx = idx[:split]\n",
    "train_idx = idx[split:]\n",
    "\n",
    "def generate_batch(day, batch_size, split='train'):\n",
    "    batch = []\n",
    "    labels = []\n",
    "    n = 0\n",
    "    if split == 'train':\n",
    "        random.shuffle(train_idx)\n",
    "    else:\n",
    "        random.shuffle(val_idx)\n",
    "    for cid in train_idx:\n",
    "        if len(purchases[cid]) < 2:\n",
    "            continue\n",
    "        last_meat = last_meat_consumption(cid, day)\n",
    "        if last_meat is not None:\n",
    "            rate = meat_consumption_rate(cid, day)\n",
    "            next_meat = meat_consumed(cid, day, day + 15)\n",
    "            if next_meat > 0.0:\n",
    "                features = [rate]\n",
    "                features.extend(last_meat)\n",
    "                batch.append(features)\n",
    "                labels.append(next_meat)\n",
    "                n += 1\n",
    "                if split=='train' and n == batch_size:\n",
    "                    return batch, labels\n",
    "    if split == 'train':\n",
    "        return None, None\n",
    "    else:\n",
    "        return batch, labels\n",
    "batch, labels = generate_batch(15, 10)\n",
    "print(batch)\n",
    "print(labels)"
   ]
  },
  {
   "cell_type": "code",
   "execution_count": 36,
   "metadata": {},
   "outputs": [
    {
     "data": {
      "text/plain": [
       "tensor([0.0435, 0.0473, 0.0652, 0.0701, 0.0540, 0.0678, 0.0565, 0.0399, 0.0431,\n",
       "        0.0650], grad_fn=<ViewBackward0>)"
      ]
     },
     "execution_count": 36,
     "metadata": {},
     "output_type": "execute_result"
    }
   ],
   "source": [
    "import gc\n",
    "\n",
    "class MeatPredictor(torch.nn.Module):\n",
    "    def __init__(self):\n",
    "        super(MeatPredictor, self).__init__()\n",
    "        self.mlp = torch.nn.Sequential(\n",
    "            torch.nn.Linear(7, 64),\n",
    "            torch.nn.ReLU(),\n",
    "            torch.nn.Linear(64, 128),\n",
    "            torch.nn.ReLU(),\n",
    "            torch.nn.Linear(128, 128),\n",
    "            torch.nn.ReLU(),\n",
    "            torch.nn.Linear(128, 128),\n",
    "            torch.nn.ReLU(),\n",
    "            torch.nn.Linear(128, 64),\n",
    "            torch.nn.ReLU(),\n",
    "            torch.nn.Linear(64, 1)\n",
    "        )\n",
    "    def forward(self, x):\n",
    "        return self.mlp(x).reshape(-1)\n",
    "\n",
    "model = MeatPredictor()\n",
    "model(torch.tensor(batch, dtype=torch.float32))"
   ]
  },
  {
   "cell_type": "code",
   "execution_count": 37,
   "metadata": {},
   "outputs": [
    {
     "name": "stdout",
     "output_type": "stream",
     "text": [
      "tensor([[ 0.0653,  2.2000,  1.0000,  ...,  1.0000,  1.0000, 19.9800],\n",
      "        [ 0.0382,  2.9000,  1.0000,  ...,  0.0000,  0.0000, 15.9600],\n",
      "        [ 0.0688,  2.2000,  1.0000,  ...,  0.0000,  1.0000, 23.9800],\n",
      "        ...,\n",
      "        [ 0.0330,  1.8000,  1.0000,  ...,  1.0000,  1.0000, 19.9800],\n",
      "        [ 0.1333,  4.0000,  1.0000,  ...,  0.0000,  1.0000, 15.9600],\n",
      "        [ 0.0491,  1.8000,  1.0000,  ...,  0.0000,  1.0000, 19.9800]])\n",
      "tensor([2.2000, 4.4000, 2.2000,  ..., 2.2000, 2.4000, 2.2000])\n",
      "0 5.794527530670166\n",
      "Validation loss:  5.138489246368408\n",
      "10 2.268266439437866\n",
      "20 0.9935745000839233\n",
      "Validation loss:  1.0103859901428223\n",
      "30 0.9203022718429565\n",
      "40 0.8623112440109253\n",
      "Validation loss:  0.8360031843185425\n",
      "50 0.9345591068267822\n",
      "60 0.748632550239563\n",
      "Validation loss:  0.7397035360336304\n",
      "70 0.6031990647315979\n",
      "80 0.587608814239502\n",
      "Validation loss:  0.6202426552772522\n",
      "90 0.43913379311561584\n",
      "100 0.30675941705703735\n",
      "Validation loss:  0.3856302797794342\n",
      "110 0.24775785207748413\n",
      "120 0.22740758955478668\n",
      "Validation loss:  0.27671289443969727\n",
      "130 0.2428458333015442\n",
      "140 0.2506828010082245\n",
      "Validation loss:  0.24400511384010315\n",
      "150 0.1883516013622284\n",
      "160 0.28661540150642395\n",
      "Validation loss:  0.2555931508541107\n",
      "170 0.23577865958213806\n",
      "180 0.23983293771743774\n",
      "Validation loss:  0.23816759884357452\n",
      "190 0.20116625726222992\n",
      "200 0.18820403516292572\n",
      "Validation loss:  0.23404982686042786\n",
      "210 0.18097485601902008\n",
      "220 0.21297051012516022\n",
      "Validation loss:  0.2539958953857422\n",
      "230 0.2264016717672348\n",
      "240 0.2229270040988922\n",
      "Validation loss:  0.3164810836315155\n",
      "250 0.1890883892774582\n",
      "260 0.2153962403535843\n",
      "Validation loss:  0.25287196040153503\n",
      "270 0.2781420052051544\n",
      "280 0.19956475496292114\n",
      "Validation loss:  0.27238667011260986\n",
      "290 0.1878470927476883\n",
      "300 0.19985376298427582\n",
      "Validation loss:  0.2512173652648926\n",
      "310 0.23300088942050934\n",
      "320 0.192471444606781\n",
      "Validation loss:  0.23474159836769104\n",
      "330 0.2636621296405792\n",
      "340 0.21266889572143555\n",
      "Validation loss:  0.25031787157058716\n",
      "350 0.21136854588985443\n",
      "360 0.17724204063415527\n",
      "Validation loss:  0.24113862216472626\n",
      "370 0.3103714883327484\n",
      "380 0.1982627511024475\n",
      "Validation loss:  0.24253667891025543\n",
      "390 0.17027422785758972\n",
      "400 0.18967516720294952\n",
      "Validation loss:  0.23331186175346375\n",
      "410 0.2211790382862091\n",
      "420 0.2291463315486908\n",
      "Validation loss:  0.236522376537323\n",
      "430 0.23304808139801025\n",
      "440 0.166113942861557\n",
      "Validation loss:  0.2701564133167267\n",
      "450 0.24064111709594727\n",
      "460 0.22846049070358276\n",
      "Validation loss:  0.23222197592258453\n",
      "470 0.22852806746959686\n",
      "480 0.18167716264724731\n",
      "Validation loss:  0.23195230960845947\n",
      "490 0.15330539643764496\n",
      "500 0.17343565821647644\n",
      "Validation loss:  0.2518879473209381\n",
      "510 0.201472669839859\n",
      "520 0.21975474059581757\n",
      "Validation loss:  0.2513728141784668\n",
      "530 0.2111143320798874\n",
      "540 0.2122233808040619\n",
      "Validation loss:  0.23939482867717743\n",
      "550 0.15600036084651947\n",
      "560 0.2738732099533081\n",
      "Validation loss:  0.23544757068157196\n",
      "570 0.31721776723861694\n",
      "580 0.27604541182518005\n",
      "Validation loss:  0.24239610135555267\n",
      "590 0.15599071979522705\n",
      "600 0.1579417735338211\n",
      "Validation loss:  0.26801279187202454\n",
      "610 0.20612958073616028\n",
      "620 0.2194133996963501\n",
      "Validation loss:  0.2649655044078827\n",
      "630 0.2442973405122757\n",
      "640 0.19888116419315338\n",
      "Validation loss:  0.24005082249641418\n",
      "650 0.21804100275039673\n",
      "660 0.3637847900390625\n",
      "Validation loss:  0.261925607919693\n",
      "670 0.14988119900226593\n",
      "680 0.26985669136047363\n",
      "Validation loss:  0.23416811227798462\n",
      "690 0.2862790524959564\n",
      "700 0.2983584403991699\n",
      "Validation loss:  0.2380787581205368\n",
      "710 0.18810121715068817\n",
      "720 0.26398906111717224\n",
      "Validation loss:  0.24730484187602997\n",
      "730 0.19365550577640533\n",
      "740 0.22836364805698395\n",
      "Validation loss:  0.2613348662853241\n",
      "750 0.16631968319416046\n",
      "760 0.20965887606143951\n",
      "Validation loss:  0.23288284242153168\n",
      "770 0.20190291106700897\n",
      "780 0.1410079300403595\n",
      "Validation loss:  0.22683021426200867\n",
      "790 0.20337806642055511\n",
      "800 0.20847269892692566\n",
      "Validation loss:  0.2907482087612152\n",
      "810 0.17706742882728577\n",
      "820 0.2511958181858063\n",
      "Validation loss:  0.22736462950706482\n",
      "830 0.17751911282539368\n",
      "840 0.21439719200134277\n",
      "Validation loss:  0.2305530309677124\n",
      "850 0.16783402860164642\n",
      "860 0.24643588066101074\n",
      "Validation loss:  0.23017065227031708\n",
      "870 0.18885177373886108\n",
      "880 0.23261122405529022\n",
      "Validation loss:  0.23659572005271912\n",
      "890 0.1878867894411087\n",
      "900 0.20040351152420044\n",
      "Validation loss:  0.2275676429271698\n",
      "910 0.1828732192516327\n",
      "920 0.24978026747703552\n",
      "Validation loss:  0.22883464395999908\n",
      "930 0.15562239289283752\n",
      "940 0.22180575132369995\n",
      "Validation loss:  0.23063597083091736\n",
      "950 0.2114640176296234\n",
      "960 0.12467090040445328\n",
      "Validation loss:  0.249915212392807\n",
      "970 0.22841180860996246\n",
      "980 0.16008561849594116\n",
      "Validation loss:  0.2371194064617157\n",
      "990 0.2528904974460602\n"
     ]
    },
    {
     "data": {
      "text/plain": [
       "<All keys matched successfully>"
      ]
     },
     "execution_count": 37,
     "metadata": {},
     "output_type": "execute_result"
    }
   ],
   "source": [
    "torch.cuda.empty_cache()\n",
    "gc.collect()\n",
    "\n",
    "loss_fn = torch.nn.MSELoss()\n",
    "optimizer = torch.optim.Adam(model.parameters(), lr=0.001)\n",
    "best_loss = 1e9\n",
    "batch_size = 256\n",
    "epochs = 1000\n",
    "\n",
    "val, val_labels = generate_batch(120, split, 'val')\n",
    "val = torch.tensor(val, dtype=torch.float32)\n",
    "val_labels = torch.tensor(val_labels, dtype=torch.float32)\n",
    "print(val)\n",
    "print(val_labels)\n",
    "\n",
    "for epoch in range(epochs):\n",
    "    batch, labels = generate_batch(random.randint(70, 136), batch_size)\n",
    "    if batch is None:\n",
    "        continue\n",
    "    batch = torch.tensor(batch, dtype=torch.float32)\n",
    "    labels = torch.tensor(labels, dtype=torch.float32)\n",
    "    optimizer.zero_grad()\n",
    "    outputs = model(batch)\n",
    "    loss = loss_fn(outputs, labels)\n",
    "    loss.backward()\n",
    "    optimizer.step()\n",
    "    if epoch % 10 == 0:\n",
    "        print(epoch, loss.item())\n",
    "    if epoch % 20 == 0:\n",
    "        val_outputs = model(val)\n",
    "        val_loss = loss_fn(val_outputs, val_labels)\n",
    "        print(\"Validation loss: \", val_loss.item())\n",
    "        if val_loss.item() < best_loss:\n",
    "            torch.save(model.state_dict(), 'meat_predictor.pth')\n",
    "            best_loss = val_loss.item()\n",
    "\n",
    "model.load_state_dict(torch.load('meat_predictor.pth'))"
   ]
  },
  {
   "cell_type": "code",
   "execution_count": 176,
   "metadata": {},
   "outputs": [],
   "source": [
    "def predict(cid, day):\n",
    "    rate = meat_consumption_rate(cid, day)\n",
    "    last_meat = last_meat_consumption(cid, day)\n",
    "    if last_meat is not None:\n",
    "        return model(torch.tensor([rate, last_meat[0], last_meat[1]], dtype=torch.float32)).item()\n",
    "    return 0.0"
   ]
  },
  {
   "cell_type": "code",
   "execution_count": 177,
   "metadata": {},
   "outputs": [],
   "source": [
    "\n",
    "data = []\n",
    "for cid in prob3_customers:\n",
    "    data.append({\n",
    "        'MAGIC_KEY': customer_keys[cid],\n",
    "        'MEAT': predict(cid, 151)\n",
    "    })\n",
    "sub_df = pd.DataFrame(data, columns=['MAGIC_KEY', 'MEAT'])\n",
    "sub_df.to_csv('submission.csv', index=False)"
   ]
  }
 ],
 "metadata": {
  "kernelspec": {
   "display_name": "base",
   "language": "python",
   "name": "python3"
  },
  "language_info": {
   "codemirror_mode": {
    "name": "ipython",
    "version": 3
   },
   "file_extension": ".py",
   "mimetype": "text/x-python",
   "name": "python",
   "nbconvert_exporter": "python",
   "pygments_lexer": "ipython3",
   "version": "3.12.1"
  }
 },
 "nbformat": 4,
 "nbformat_minor": 2
}

{
 "cells": [
  {
   "cell_type": "code",
   "execution_count": 1,
   "metadata": {},
   "outputs": [],
   "source": [
    "import numpy as np # linear algebra\n",
    "import pandas as pd # data processing, CSV file I/O (e.g. pd.read_csv)\n",
    "import datetime\n",
    "import torch\n",
    "import random"
   ]
  },
  {
   "cell_type": "code",
   "execution_count": 2,
   "metadata": {},
   "outputs": [],
   "source": [
    "purchase_df = pd.read_csv('../data/purchase.csv')\n",
    "boxes_df = pd.read_csv('../data/boxes.csv')"
   ]
  },
  {
   "cell_type": "code",
   "execution_count": 3,
   "metadata": {},
   "outputs": [
    {
     "data": {
      "text/html": [
       "<div>\n",
       "<style scoped>\n",
       "    .dataframe tbody tr th:only-of-type {\n",
       "        vertical-align: middle;\n",
       "    }\n",
       "\n",
       "    .dataframe tbody tr th {\n",
       "        vertical-align: top;\n",
       "    }\n",
       "\n",
       "    .dataframe thead th {\n",
       "        text-align: right;\n",
       "    }\n",
       "</style>\n",
       "<table border=\"1\" class=\"dataframe\">\n",
       "  <thead>\n",
       "    <tr style=\"text-align: right;\">\n",
       "      <th></th>\n",
       "      <th>PURCHASE_DATE</th>\n",
       "      <th>MAGIC_KEY</th>\n",
       "      <th>BOX_ID</th>\n",
       "      <th>BOX_COUNT</th>\n",
       "    </tr>\n",
       "  </thead>\n",
       "  <tbody>\n",
       "    <tr>\n",
       "      <th>0</th>\n",
       "      <td>1/2/2019</td>\n",
       "      <td>2CED678A247</td>\n",
       "      <td>12.0</td>\n",
       "      <td>1.0</td>\n",
       "    </tr>\n",
       "    <tr>\n",
       "      <th>1</th>\n",
       "      <td>1/2/2019</td>\n",
       "      <td>2BF58D91BA1</td>\n",
       "      <td>12.0</td>\n",
       "      <td>1.0</td>\n",
       "    </tr>\n",
       "    <tr>\n",
       "      <th>2</th>\n",
       "      <td>1/2/2019</td>\n",
       "      <td>2C15B86534E</td>\n",
       "      <td>99.0</td>\n",
       "      <td>1.0</td>\n",
       "    </tr>\n",
       "    <tr>\n",
       "      <th>3</th>\n",
       "      <td>1/2/2019</td>\n",
       "      <td>2C32D9A859A</td>\n",
       "      <td>6.0</td>\n",
       "      <td>1.0</td>\n",
       "    </tr>\n",
       "    <tr>\n",
       "      <th>4</th>\n",
       "      <td>1/2/2019</td>\n",
       "      <td>2C7A55404D1</td>\n",
       "      <td>4.0</td>\n",
       "      <td>1.0</td>\n",
       "    </tr>\n",
       "  </tbody>\n",
       "</table>\n",
       "</div>"
      ],
      "text/plain": [
       "  PURCHASE_DATE    MAGIC_KEY  BOX_ID  BOX_COUNT\n",
       "0      1/2/2019  2CED678A247    12.0        1.0\n",
       "1      1/2/2019  2BF58D91BA1    12.0        1.0\n",
       "2      1/2/2019  2C15B86534E    99.0        1.0\n",
       "3      1/2/2019  2C32D9A859A     6.0        1.0\n",
       "4      1/2/2019  2C7A55404D1     4.0        1.0"
      ]
     },
     "execution_count": 3,
     "metadata": {},
     "output_type": "execute_result"
    }
   ],
   "source": [
    "purchase_df.head()"
   ]
  },
  {
   "cell_type": "code",
   "execution_count": 4,
   "metadata": {},
   "outputs": [],
   "source": [
    "# Use the dates to apply a day number to each purchase, offset from the base date, 1st October 2018\n",
    "base_date = datetime.date(2018, 10, 1)\n",
    "purchase_df['day'] = purchase_df['PURCHASE_DATE'].apply(lambda x: (datetime.datetime.strptime(x, '%d/%m/%Y').date() - base_date).days)"
   ]
  },
  {
   "cell_type": "code",
   "execution_count": 5,
   "metadata": {},
   "outputs": [
    {
     "data": {
      "text/html": [
       "<div>\n",
       "<style scoped>\n",
       "    .dataframe tbody tr th:only-of-type {\n",
       "        vertical-align: middle;\n",
       "    }\n",
       "\n",
       "    .dataframe tbody tr th {\n",
       "        vertical-align: top;\n",
       "    }\n",
       "\n",
       "    .dataframe thead th {\n",
       "        text-align: right;\n",
       "    }\n",
       "</style>\n",
       "<table border=\"1\" class=\"dataframe\">\n",
       "  <thead>\n",
       "    <tr style=\"text-align: right;\">\n",
       "      <th></th>\n",
       "      <th>PURCHASE_DATE</th>\n",
       "      <th>MAGIC_KEY</th>\n",
       "      <th>BOX_ID</th>\n",
       "      <th>BOX_COUNT</th>\n",
       "      <th>day</th>\n",
       "    </tr>\n",
       "  </thead>\n",
       "  <tbody>\n",
       "    <tr>\n",
       "      <th>1583436</th>\n",
       "      <td>27/12/2018</td>\n",
       "      <td>290F8A32671</td>\n",
       "      <td>231.0</td>\n",
       "      <td>1.0</td>\n",
       "      <td>87</td>\n",
       "    </tr>\n",
       "    <tr>\n",
       "      <th>1510757</th>\n",
       "      <td>31/12/2018</td>\n",
       "      <td>297683F79B3</td>\n",
       "      <td>258.0</td>\n",
       "      <td>1.0</td>\n",
       "      <td>91</td>\n",
       "    </tr>\n",
       "    <tr>\n",
       "      <th>1247599</th>\n",
       "      <td>10/12/2018</td>\n",
       "      <td>2C392AD0080</td>\n",
       "      <td>99.0</td>\n",
       "      <td>1.0</td>\n",
       "      <td>70</td>\n",
       "    </tr>\n",
       "    <tr>\n",
       "      <th>1678193</th>\n",
       "      <td>4/11/2018</td>\n",
       "      <td>2C0F3DCABB1</td>\n",
       "      <td>143.0</td>\n",
       "      <td>1.0</td>\n",
       "      <td>34</td>\n",
       "    </tr>\n",
       "    <tr>\n",
       "      <th>853085</th>\n",
       "      <td>15/1/2019</td>\n",
       "      <td>2CA6BF3724C</td>\n",
       "      <td>80.0</td>\n",
       "      <td>1.0</td>\n",
       "      <td>106</td>\n",
       "    </tr>\n",
       "    <tr>\n",
       "      <th>978763</th>\n",
       "      <td>23/1/2019</td>\n",
       "      <td>2C24830C009</td>\n",
       "      <td>143.0</td>\n",
       "      <td>1.0</td>\n",
       "      <td>114</td>\n",
       "    </tr>\n",
       "    <tr>\n",
       "      <th>179789</th>\n",
       "      <td>10/2/2019</td>\n",
       "      <td>28E10C1EDD7</td>\n",
       "      <td>258.0</td>\n",
       "      <td>1.0</td>\n",
       "      <td>132</td>\n",
       "    </tr>\n",
       "    <tr>\n",
       "      <th>1010899</th>\n",
       "      <td>25/1/2019</td>\n",
       "      <td>2C99E0A60DC</td>\n",
       "      <td>106.0</td>\n",
       "      <td>1.0</td>\n",
       "      <td>116</td>\n",
       "    </tr>\n",
       "    <tr>\n",
       "      <th>354845</th>\n",
       "      <td>18/2/2019</td>\n",
       "      <td>29F80E22FF5</td>\n",
       "      <td>204.0</td>\n",
       "      <td>1.0</td>\n",
       "      <td>140</td>\n",
       "    </tr>\n",
       "    <tr>\n",
       "      <th>1253771</th>\n",
       "      <td>10/12/2018</td>\n",
       "      <td>2C24CC2F1D6</td>\n",
       "      <td>41.0</td>\n",
       "      <td>1.0</td>\n",
       "      <td>70</td>\n",
       "    </tr>\n",
       "  </tbody>\n",
       "</table>\n",
       "</div>"
      ],
      "text/plain": [
       "        PURCHASE_DATE    MAGIC_KEY  BOX_ID  BOX_COUNT  day\n",
       "1583436    27/12/2018  290F8A32671   231.0        1.0   87\n",
       "1510757    31/12/2018  297683F79B3   258.0        1.0   91\n",
       "1247599    10/12/2018  2C392AD0080    99.0        1.0   70\n",
       "1678193     4/11/2018  2C0F3DCABB1   143.0        1.0   34\n",
       "853085      15/1/2019  2CA6BF3724C    80.0        1.0  106\n",
       "978763      23/1/2019  2C24830C009   143.0        1.0  114\n",
       "179789      10/2/2019  28E10C1EDD7   258.0        1.0  132\n",
       "1010899     25/1/2019  2C99E0A60DC   106.0        1.0  116\n",
       "354845      18/2/2019  29F80E22FF5   204.0        1.0  140\n",
       "1253771    10/12/2018  2C24CC2F1D6    41.0        1.0   70"
      ]
     },
     "execution_count": 5,
     "metadata": {},
     "output_type": "execute_result"
    }
   ],
   "source": [
    "purchase_df.sample(10)"
   ]
  },
  {
   "cell_type": "code",
   "execution_count": 6,
   "metadata": {},
   "outputs": [],
   "source": [
    "# We don't need the date anymore\n",
    "purchase_df.drop(['PURCHASE_DATE'], axis=1, inplace=True)"
   ]
  },
  {
   "cell_type": "code",
   "execution_count": 7,
   "metadata": {},
   "outputs": [],
   "source": [
    "customer_keys = purchase_df['MAGIC_KEY'].unique()\n",
    "customer_ids = {customer_keys[i]: i for i in range(len(customer_keys))}"
   ]
  },
  {
   "cell_type": "code",
   "execution_count": 8,
   "metadata": {},
   "outputs": [],
   "source": [
    "# Drop the invalid data\n",
    "purchase_df.drop(purchase_df[purchase_df['BOX_ID'].isnull()].index, inplace=True)\n",
    "purchase_df.drop(purchase_df[purchase_df['BOX_COUNT'] < 0].index, inplace=True)"
   ]
  },
  {
   "cell_type": "code",
   "execution_count": 9,
   "metadata": {},
   "outputs": [],
   "source": [
    "purchase_df['BOX_COUNT'] = purchase_df['BOX_COUNT'].astype(int)\n",
    "purchase_df['BOX_ID'] = purchase_df['BOX_ID'].astype(int)"
   ]
  },
  {
   "cell_type": "code",
   "execution_count": 10,
   "metadata": {},
   "outputs": [
    {
     "data": {
      "text/html": [
       "<div>\n",
       "<style scoped>\n",
       "    .dataframe tbody tr th:only-of-type {\n",
       "        vertical-align: middle;\n",
       "    }\n",
       "\n",
       "    .dataframe tbody tr th {\n",
       "        vertical-align: top;\n",
       "    }\n",
       "\n",
       "    .dataframe thead th {\n",
       "        text-align: right;\n",
       "    }\n",
       "</style>\n",
       "<table border=\"1\" class=\"dataframe\">\n",
       "  <thead>\n",
       "    <tr style=\"text-align: right;\">\n",
       "      <th></th>\n",
       "      <th>MAGIC_KEY</th>\n",
       "      <th>BOX_ID</th>\n",
       "      <th>BOX_COUNT</th>\n",
       "      <th>day</th>\n",
       "    </tr>\n",
       "  </thead>\n",
       "  <tbody>\n",
       "    <tr>\n",
       "      <th>0</th>\n",
       "      <td>2CED678A247</td>\n",
       "      <td>12</td>\n",
       "      <td>1</td>\n",
       "      <td>123</td>\n",
       "    </tr>\n",
       "    <tr>\n",
       "      <th>1</th>\n",
       "      <td>2BF58D91BA1</td>\n",
       "      <td>12</td>\n",
       "      <td>1</td>\n",
       "      <td>123</td>\n",
       "    </tr>\n",
       "    <tr>\n",
       "      <th>2</th>\n",
       "      <td>2C15B86534E</td>\n",
       "      <td>99</td>\n",
       "      <td>1</td>\n",
       "      <td>123</td>\n",
       "    </tr>\n",
       "    <tr>\n",
       "      <th>3</th>\n",
       "      <td>2C32D9A859A</td>\n",
       "      <td>6</td>\n",
       "      <td>1</td>\n",
       "      <td>123</td>\n",
       "    </tr>\n",
       "    <tr>\n",
       "      <th>4</th>\n",
       "      <td>2C7A55404D1</td>\n",
       "      <td>4</td>\n",
       "      <td>1</td>\n",
       "      <td>123</td>\n",
       "    </tr>\n",
       "    <tr>\n",
       "      <th>5</th>\n",
       "      <td>29D969045C2</td>\n",
       "      <td>238</td>\n",
       "      <td>1</td>\n",
       "      <td>123</td>\n",
       "    </tr>\n",
       "    <tr>\n",
       "      <th>6</th>\n",
       "      <td>28E5EA49074</td>\n",
       "      <td>227</td>\n",
       "      <td>1</td>\n",
       "      <td>123</td>\n",
       "    </tr>\n",
       "    <tr>\n",
       "      <th>7</th>\n",
       "      <td>2CEFA3A8659</td>\n",
       "      <td>6</td>\n",
       "      <td>1</td>\n",
       "      <td>123</td>\n",
       "    </tr>\n",
       "    <tr>\n",
       "      <th>8</th>\n",
       "      <td>2A00DE30F46</td>\n",
       "      <td>204</td>\n",
       "      <td>1</td>\n",
       "      <td>123</td>\n",
       "    </tr>\n",
       "    <tr>\n",
       "      <th>9</th>\n",
       "      <td>291C04B5CBF</td>\n",
       "      <td>231</td>\n",
       "      <td>1</td>\n",
       "      <td>123</td>\n",
       "    </tr>\n",
       "  </tbody>\n",
       "</table>\n",
       "</div>"
      ],
      "text/plain": [
       "     MAGIC_KEY  BOX_ID  BOX_COUNT  day\n",
       "0  2CED678A247      12          1  123\n",
       "1  2BF58D91BA1      12          1  123\n",
       "2  2C15B86534E      99          1  123\n",
       "3  2C32D9A859A       6          1  123\n",
       "4  2C7A55404D1       4          1  123\n",
       "5  29D969045C2     238          1  123\n",
       "6  28E5EA49074     227          1  123\n",
       "7  2CEFA3A8659       6          1  123\n",
       "8  2A00DE30F46     204          1  123\n",
       "9  291C04B5CBF     231          1  123"
      ]
     },
     "execution_count": 10,
     "metadata": {},
     "output_type": "execute_result"
    }
   ],
   "source": [
    "purchase_df.head(10)"
   ]
  },
  {
   "cell_type": "code",
   "execution_count": 11,
   "metadata": {},
   "outputs": [
    {
     "name": "stdout",
     "output_type": "stream",
     "text": [
      "1274087 2455800\n"
     ]
    }
   ],
   "source": [
    "print(len(purchase_df['MAGIC_KEY'].unique()), len(purchase_df))"
   ]
  },
  {
   "cell_type": "code",
   "execution_count": 12,
   "metadata": {},
   "outputs": [
    {
     "data": {
      "text/plain": [
       "0          None\n",
       "1          None\n",
       "2          None\n",
       "3          None\n",
       "4          None\n",
       "           ... \n",
       "2455859    None\n",
       "2455860    None\n",
       "2455861    None\n",
       "2455862    None\n",
       "2455863    None\n",
       "Length: 2455800, dtype: object"
      ]
     },
     "execution_count": 12,
     "metadata": {},
     "output_type": "execute_result"
    }
   ],
   "source": [
    "# Add BOX_ID, BOX_COUNT, day to each of the purchases of a customer\n",
    "purchases = [[] for _ in range(len(customer_keys))]\n",
    "purchase_df.apply(lambda x: purchases[customer_ids[x['MAGIC_KEY']]].append((x['BOX_ID'], x['BOX_COUNT'], x['day'])), axis=1)"
   ]
  },
  {
   "cell_type": "code",
   "execution_count": 13,
   "metadata": {},
   "outputs": [
    {
     "data": {
      "text/html": [
       "<div>\n",
       "<style scoped>\n",
       "    .dataframe tbody tr th:only-of-type {\n",
       "        vertical-align: middle;\n",
       "    }\n",
       "\n",
       "    .dataframe tbody tr th {\n",
       "        vertical-align: top;\n",
       "    }\n",
       "\n",
       "    .dataframe thead th {\n",
       "        text-align: right;\n",
       "    }\n",
       "</style>\n",
       "<table border=\"1\" class=\"dataframe\">\n",
       "  <thead>\n",
       "    <tr style=\"text-align: right;\">\n",
       "      <th></th>\n",
       "      <th>MAGIC_KEY</th>\n",
       "    </tr>\n",
       "  </thead>\n",
       "  <tbody>\n",
       "    <tr>\n",
       "      <th>0</th>\n",
       "      <td>2BCFE9C06A7</td>\n",
       "    </tr>\n",
       "    <tr>\n",
       "      <th>1</th>\n",
       "      <td>2C2A872B5A2</td>\n",
       "    </tr>\n",
       "    <tr>\n",
       "      <th>2</th>\n",
       "      <td>2C6A897671B</td>\n",
       "    </tr>\n",
       "    <tr>\n",
       "      <th>3</th>\n",
       "      <td>2C6F1287F53</td>\n",
       "    </tr>\n",
       "    <tr>\n",
       "      <th>4</th>\n",
       "      <td>2C658198CC9</td>\n",
       "    </tr>\n",
       "  </tbody>\n",
       "</table>\n",
       "</div>"
      ],
      "text/plain": [
       "     MAGIC_KEY\n",
       "0  2BCFE9C06A7\n",
       "1  2C2A872B5A2\n",
       "2  2C6A897671B\n",
       "3  2C6F1287F53\n",
       "4  2C658198CC9"
      ]
     },
     "execution_count": 13,
     "metadata": {},
     "output_type": "execute_result"
    }
   ],
   "source": [
    "prob3_df = pd.read_csv('../data/problem 3.csv')\n",
    "prob3_df.head()"
   ]
  },
  {
   "cell_type": "code",
   "execution_count": 14,
   "metadata": {},
   "outputs": [
    {
     "data": {
      "text/plain": [
       "5379"
      ]
     },
     "execution_count": 14,
     "metadata": {},
     "output_type": "execute_result"
    }
   ],
   "source": [
    "len(prob3_df)"
   ]
  },
  {
   "cell_type": "code",
   "execution_count": 15,
   "metadata": {},
   "outputs": [
    {
     "data": {
      "text/plain": [
       "5379"
      ]
     },
     "execution_count": 15,
     "metadata": {},
     "output_type": "execute_result"
    }
   ],
   "source": [
    "prob3_customers = [customer_ids[x] for x in prob3_df['MAGIC_KEY'].unique()]\n",
    "len(prob3_customers)"
   ]
  },
  {
   "cell_type": "code",
   "execution_count": 16,
   "metadata": {},
   "outputs": [],
   "source": [
    "# Sort all the puchases of each customer by day\n",
    "for i, _ in enumerate(purchases):\n",
    "    purchases[i].sort(key=lambda x: x[2])"
   ]
  },
  {
   "cell_type": "code",
   "execution_count": 17,
   "metadata": {},
   "outputs": [
    {
     "name": "stdout",
     "output_type": "stream",
     "text": [
      "single purchase: \n",
      "0 [(12, 1, 123)]\n",
      "1 [(12, 1, 123)]\n",
      "3 [(6, 1, 123)]\n",
      "4 [(4, 1, 123)]\n",
      "6 [(227, 1, 123)]\n",
      "7 [(6, 1, 123)]\n",
      "10 [(12, 1, 123)]\n",
      "11 [(231, 1, 123)]\n",
      "13 [(278, 1, 123)]\n",
      "16 [(231, 1, 123)]\n",
      "more than 5 purchase: \n",
      "5 [(238, 1, 14), (238, 1, 36), (238, 1, 56), (238, 1, 80), (238, 1, 100), (238, 1, 123)]\n",
      "14 [(203, 1, 35), (203, 1, 53), (203, 1, 63), (221, 1, 72), (203, 1, 81), (203, 1, 87), (238, 1, 97), (204, 1, 123), (204, 1, 135), (272, 1, 150)]\n",
      "38 [(8, 1, 15), (8, 1, 30), (8, 1, 60), (8, 1, 82), (8, 1, 104), (8, 1, 123)]\n",
      "39 [(238, 1, 20), (238, 1, 44), (268, 1, 54), (238, 1, 67), (238, 1, 76), (238, 1, 89), (238, 1, 98), (238, 1, 105), (228, 1, 123), (238, 1, 129), (238, 1, 133), (238, 1, 138), (238, 1, 142), (230, 1, 147), (238, 1, 150)]\n",
      "42 [(260, 1, 8), (203, 1, 23), (221, 1, 38), (221, 1, 65), (271, 1, 84), (272, 1, 104), (221, 1, 123), (276, 1, 145)]\n",
      "43 [(137, 1, 6), (137, 1, 23), (137, 1, 42), (137, 1, 62), (137, 1, 79), (174, 1, 97), (174, 1, 123)]\n",
      "44 [(238, 1, 18), (238, 1, 102), (228, 1, 108), (228, 1, 115), (228, 1, 118), (228, 1, 120), (228, 1, 123), (228, 1, 125), (230, 1, 129), (230, 1, 134), (230, 1, 137), (230, 1, 139), (230, 1, 141), (230, 1, 145), (230, 1, 148)]\n",
      "47 [(106, 1, 41), (103, 1, 71), (106, 1, 101), (106, 1, 112), (106, 1, 123), (106, 1, 132)]\n",
      "48 [(106, 1, 18), (106, 1, 40), (103, 1, 71), (106, 1, 100), (106, 1, 123), (108, 1, 150)]\n",
      "51 [(89, 1, 24), (89, 1, 50), (89, 1, 70), (89, 1, 80), (89, 1, 90), (89, 1, 94), (89, 1, 105), (89, 1, 123), (9, 1, 139)]\n"
     ]
    }
   ],
   "source": [
    "# Analyze single and long purchases\n",
    "a = 10\n",
    "b = 10\n",
    "print(\"single purchase: \")\n",
    "for i, p in enumerate(purchases):\n",
    "    if len(p) == 1:\n",
    "        if a > 0:\n",
    "            print(i, p)\n",
    "            a -= 1\n",
    "\n",
    "print(\"more than 5 purchase: \")\n",
    "for i, p in enumerate(purchases):\n",
    "    if len(p) > 5:\n",
    "        if b > 0:\n",
    "            print(i, p)\n",
    "            b -= 1\n"
   ]
  },
  {
   "cell_type": "code",
   "execution_count": 20,
   "metadata": {},
   "outputs": [
    {
     "name": "stdout",
     "output_type": "stream",
     "text": [
      "   BOX_ID  QUALITY      DELIVERY_OPTION  MILK  MEAT  UNIT_PRICE\n",
      "0       1  Premium  Home Delivery - CoD   0.0   2.7        9.96\n",
      "1       2  Premium  Home Delivery - CoD   0.0   2.3       11.96\n",
      "2       3  Premium  Home Delivery - CoD   0.0   2.4       11.96\n",
      "3       4  Premium  Home Delivery - CoD   0.0   2.5       11.96\n",
      "4       5  Premium  Home Delivery - CoD   0.0   2.6       11.96\n",
      "5       6  Premium  Home Delivery - CoD   0.0   2.7       11.96\n",
      "6       7  Premium  Home Delivery - CoD   0.0   2.8       11.96\n",
      "7       8  Premium  Home Delivery - CoD  10.0   0.0       12.18\n",
      "8       9  Premium  Home Delivery - CoD  10.5   0.0       12.78\n",
      "9      10  Premium  Home Delivery - CoD   8.0   1.3       12.98\n",
      "290\n"
     ]
    }
   ],
   "source": [
    "print(boxes_df.head(10))\n",
    "print(len(boxes_df))"
   ]
  },
  {
   "cell_type": "markdown",
   "metadata": {},
   "source": [
    "**meat_consumed:** Total meat consumed in a range of days<br>\n",
    "**milk_consumed:** Total milk consumed in a range of days<br>\n",
    "**meat_consumption_rate:** Meat consumed divided by the number of days<br>\n",
    "**milk_consumption_rate:** Milk consumed divided by the number of days"
   ]
  },
  {
   "cell_type": "code",
   "execution_count": 23,
   "metadata": {},
   "outputs": [],
   "source": [
    "def meat_consumed(cid, start_day, end_day):\n",
    "    boxes = filter(lambda x: x[2] >= start_day and x[2] < end_day, purchases[cid])\n",
    "    meat_consumed = 0\n",
    "    for id, cnt, _ in boxes:\n",
    "        meat_consumed += cnt * boxes_df.at[id - 1, 'MEAT']\n",
    "    return meat_consumed\n",
    "\n",
    "def milk_consumed(cid, start_day, end_day):\n",
    "    boxes = filter(lambda x: x[2] >= start_day and x[2] < end_day, purchases[cid])\n",
    "    milk_consumed = 0\n",
    "    for id, cnt, _ in boxes:\n",
    "        milk_consumed += cnt * boxes_df.at[id - 1, 'MILK']\n",
    "    return milk_consumed\n",
    "\n",
    "\n",
    "def meat_consumption_rate(cid):\n",
    "    end_day = 151\n",
    "    consumptions = list(filter(lambda x: x[2] < end_day and boxes_df.at[x[0] - 1, 'MEAT'] > 0.0, purchases[cid]))\n",
    "    if len(consumptions) == 0:\n",
    "        return 0.0\n",
    "    start = consumptions[0][2]\n",
    "    return meat_consumed(cid, start, end_day) / (end_day - start)\n",
    "\n",
    "def milk_consumption_rate(cid):\n",
    "    end_day = 151\n",
    "    consumptions = list(filter(lambda x: x[2] < end_day and boxes_df.at[x[0] - 1, 'MILK'] > 0.0, purchases[cid]))\n",
    "    if len(consumptions) == 0:\n",
    "        return 0.0\n",
    "    start = consumptions[0][2]\n",
    "    return milk_consumed(cid, start, end_day) / (end_day - start)"
   ]
  },
  {
   "cell_type": "code",
   "execution_count": 24,
   "metadata": {},
   "outputs": [],
   "source": [
    "last_day = purchase_df['day'].max()\n",
    "last_date = datetime.date(2019, 2, 28)\n",
    "first_day = purchase_df['day'].min()"
   ]
  },
  {
   "cell_type": "code",
   "execution_count": 25,
   "metadata": {},
   "outputs": [
    {
     "name": "stdout",
     "output_type": "stream",
     "text": [
      "0.05357142857142857 0.2857142857142857\n"
     ]
    }
   ],
   "source": [
    "print(meat_consumption_rate(0), milk_consumption_rate(0))"
   ]
  },
  {
   "cell_type": "code",
   "execution_count": 26,
   "metadata": {},
   "outputs": [
    {
     "data": {
      "text/plain": [
       "[4.4, 27]"
      ]
     },
     "execution_count": 26,
     "metadata": {},
     "output_type": "execute_result"
    }
   ],
   "source": [
    "# Returns the info for the last meat consumption/purchase of a customer\n",
    "def last_meat_consumption(cid, end_day=151):\n",
    "    consumptions = list(filter(lambda x: x[2] < end_day and boxes_df.at[x[0] - 1, 'MEAT'] > 0.0, purchases[cid]))\n",
    "    try:\n",
    "        bid, cnt, day = consumptions[-1]\n",
    "    except:\n",
    "        return None\n",
    "    return [cnt * boxes_df.at[bid - 1, 'MEAT'], \n",
    "            end_day - day]\n",
    "last_meat_consumption(3588, 150)"
   ]
  },
  {
   "cell_type": "code",
   "execution_count": 27,
   "metadata": {},
   "outputs": [
    {
     "name": "stdout",
     "output_type": "stream",
     "text": [
      "[[0.06428571428571428, 0.35714285714285715, 1.8, 4], [0.03513513513513514, 0.0, 2.7, 12], [0.06137931034482759, 0.496551724137931, 1.3, 9], [0.060810810810810814, 0.47297297297297297, 1.8, 12], [0.08333333333333333, 0.0, 3.3, 8], [0.08243243243243242, 0.6486486486486487, 1.8, 12], [0.05496688741721855, 0.33112582781456956, 1.8, 15], [0.06266666666666666, 0.5333333333333333, 1.8, 14], [0.08933333333333332, 0.7466666666666667, 1.8, 14], [0.10596026490066225, 0.0, 3.6, 15]]\n",
      "[1.8, 2.5, 1.8, 1.8, 2.9, 2.0, 1.8, 1.8, 1.8, 2.9]\n"
     ]
    }
   ],
   "source": [
    "split = int(len(purchases) * 0.1)\n",
    "idx = [i for i in range(len(purchases))]\n",
    "random.shuffle(idx)\n",
    "val_idx = idx[:split]\n",
    "train_idx = idx[split:]\n",
    "\n",
    "def generate_batch(day, batch_size, split='train'):\n",
    "    batch = []\n",
    "    labels = []\n",
    "    n = 0\n",
    "    if split == 'train':\n",
    "        random.shuffle(train_idx)\n",
    "        current_idx = train_idx\n",
    "    else:\n",
    "        random.shuffle(val_idx)\n",
    "        current_idx = val_idx\n",
    "    for cid in current_idx:\n",
    "        if len(purchases[cid]) < 2:\n",
    "            continue\n",
    "        last_meat = last_meat_consumption(cid, day)\n",
    "        if last_meat is not None:\n",
    "            rate1 = meat_consumption_rate(cid)\n",
    "            rate2 = milk_consumption_rate(cid)\n",
    "            next_meat = meat_consumed(cid, day, day + 15)\n",
    "            if next_meat > 0.0:\n",
    "                features = [rate1, rate2]\n",
    "                features.extend(last_meat)\n",
    "                batch.append(features)\n",
    "                labels.append(next_meat)\n",
    "                n += 1\n",
    "                if split=='train' and n == batch_size:\n",
    "                    return batch, labels\n",
    "    if split == 'train':\n",
    "        return None, None\n",
    "    else:\n",
    "        return batch, labels\n",
    "batch, labels = generate_batch(15, 10)\n",
    "print(batch)\n",
    "print(labels)"
   ]
  },
  {
   "cell_type": "code",
   "execution_count": 28,
   "metadata": {},
   "outputs": [
    {
     "data": {
      "text/plain": [
       "tensor([0., 0., 0., 0., 0., 0., 0., 0., 0., 0.], device='cuda:0',\n",
       "       grad_fn=<ViewBackward0>)"
      ]
     },
     "execution_count": 28,
     "metadata": {},
     "output_type": "execute_result"
    }
   ],
   "source": [
    "import gc\n",
    "\n",
    "class MeatPredictor(torch.nn.Module):\n",
    "    def __init__(self):\n",
    "        super(MeatPredictor, self).__init__()\n",
    "        self.mlp = torch.nn.Sequential(\n",
    "            torch.nn.Linear(4, 64),\n",
    "            torch.nn.ReLU(),\n",
    "            torch.nn.Linear(64, 128),\n",
    "            torch.nn.ReLU(),\n",
    "            torch.nn.Linear(128, 64),\n",
    "            torch.nn.ReLU(),\n",
    "            torch.nn.Linear(64, 1), \n",
    "            torch.nn.ReLU()\n",
    "        )\n",
    "    def forward(self, x):\n",
    "        return self.mlp(x).reshape(-1)\n",
    "\n",
    "model = MeatPredictor().cuda()\n",
    "model(torch.tensor(batch, dtype=torch.float32).cuda())"
   ]
  },
  {
   "cell_type": "code",
   "execution_count": 29,
   "metadata": {},
   "outputs": [
    {
     "name": "stdout",
     "output_type": "stream",
     "text": [
      "0 6.657500267028809\n",
      "Validation loss:  7.489947319030762\n",
      "10 7.5082807540893555\n",
      "20 5.893280982971191\n",
      "Validation loss:  7.489947319030762\n",
      "30 5.422968864440918\n",
      "40 6.466249465942383\n",
      "Validation loss:  7.489947319030762\n",
      "50 5.910624980926514\n",
      "60 6.572343826293945\n",
      "Validation loss:  7.489947319030762\n",
      "70 5.269999980926514\n",
      "80 6.495625019073486\n",
      "Validation loss:  7.489947319030762\n",
      "90 5.917031288146973\n"
     ]
    },
    {
     "data": {
      "text/plain": [
       "<All keys matched successfully>"
      ]
     },
     "execution_count": 29,
     "metadata": {},
     "output_type": "execute_result"
    }
   ],
   "source": [
    "torch.cuda.empty_cache()\n",
    "gc.collect()\n",
    "\n",
    "loss_fn = torch.nn.MSELoss()\n",
    "optimizer = torch.optim.Adam(model.parameters(), lr=0.001)\n",
    "best_loss = 1e9\n",
    "batch_size = 64\n",
    "epochs = 100\n",
    "\n",
    "val, val_labels = generate_batch(136, split, 'val')\n",
    "val = torch.tensor(val, dtype=torch.float32).cuda()\n",
    "val_labels = torch.tensor(val_labels, dtype=torch.float32).cuda()\n",
    "\n",
    "for epoch in range(epochs):\n",
    "    batch, labels = generate_batch(random.randint(70, 136), batch_size)\n",
    "    if batch is None:\n",
    "        continue\n",
    "    batch = torch.tensor(batch, dtype=torch.float32).cuda()\n",
    "    labels = torch.tensor(labels, dtype=torch.float32).cuda()\n",
    "    optimizer.zero_grad()\n",
    "    outputs = model(batch)\n",
    "    loss = loss_fn(outputs, labels)\n",
    "    loss.backward()\n",
    "    optimizer.step()\n",
    "    if epoch % 10 == 0:\n",
    "        print(epoch, loss.item())\n",
    "    if epoch % 20 == 0:\n",
    "        val_outputs = model(val)\n",
    "        val_loss = loss_fn(val_outputs, val_labels)\n",
    "        print(\"Validation loss: \", val_loss.item())\n",
    "        if val_loss.item() < best_loss:\n",
    "            torch.save(model.state_dict(), 'meat_predictor.pth')\n",
    "            best_loss = val_loss.item()\n",
    "\n",
    "model.load_state_dict(torch.load('meat_predictor.pth'))"
   ]
  },
  {
   "cell_type": "code",
   "execution_count": 30,
   "metadata": {},
   "outputs": [
    {
     "name": "stdout",
     "output_type": "stream",
     "text": [
      "best loss:  7.489947319030762\n"
     ]
    }
   ],
   "source": [
    "print(\"best loss: \", best_loss)"
   ]
  },
  {
   "cell_type": "code",
   "execution_count": 31,
   "metadata": {},
   "outputs": [],
   "source": [
    "def predict(cid, day):\n",
    "    rate1 = meat_consumption_rate(cid)\n",
    "    rate2 = milk_consumption_rate(cid)\n",
    "    last_meat = last_meat_consumption(cid, day)\n",
    "    if last_meat is not None:\n",
    "        features = [rate1, rate2]\n",
    "        features.extend(last_meat)\n",
    "        return model(torch.tensor(features, dtype=torch.float32).cuda()).item()\n",
    "    return 0.0"
   ]
  },
  {
   "cell_type": "code",
   "execution_count": 32,
   "metadata": {},
   "outputs": [],
   "source": [
    "\n",
    "data = []\n",
    "for cid in prob3_customers:\n",
    "    data.append({\n",
    "        'MAGIC_KEY': customer_keys[cid],\n",
    "        'MEAT': predict(cid, 151)\n",
    "    })\n",
    "sub_df = pd.DataFrame(data, columns=['MAGIC_KEY', 'MEAT'])\n",
    "sub_df.to_csv('submission.csv', index=False)"
   ]
  }
 ],
 "metadata": {
  "kernelspec": {
   "display_name": "base",
   "language": "python",
   "name": "python3"
  },
  "language_info": {
   "codemirror_mode": {
    "name": "ipython",
    "version": 3
   },
   "file_extension": ".py",
   "mimetype": "text/x-python",
   "name": "python",
   "nbconvert_exporter": "python",
   "pygments_lexer": "ipython3",
   "version": "3.10.0"
  }
 },
 "nbformat": 4,
 "nbformat_minor": 2
}

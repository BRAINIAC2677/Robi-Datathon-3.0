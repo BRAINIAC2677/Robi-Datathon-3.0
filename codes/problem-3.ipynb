{
 "cells": [
  {
   "cell_type": "code",
   "execution_count": 65,
   "metadata": {},
   "outputs": [],
   "source": [
    "\n",
    "\n",
    "import numpy as np # linear algebra\n",
    "import pandas as pd # data processing, CSV file I/O (e.g. pd.read_csv)\n",
    "import datetime\n",
    "import torch\n",
    "import random\n"
   ]
  },
  {
   "cell_type": "code",
   "execution_count": 66,
   "metadata": {},
   "outputs": [],
   "source": [
    "\n",
    "\n",
    "purchase_df = pd.read_csv('robi-datathon-30-qualifier-problem-3/purchase.csv')\n",
    "boxes_df = pd.read_csv('robi-datathon-30-qualifier-problem-3/boxes.csv')"
   ]
  },
  {
   "cell_type": "code",
   "execution_count": 67,
   "metadata": {},
   "outputs": [
    {
     "data": {
      "text/html": [
       "<div>\n",
       "<style scoped>\n",
       "    .dataframe tbody tr th:only-of-type {\n",
       "        vertical-align: middle;\n",
       "    }\n",
       "\n",
       "    .dataframe tbody tr th {\n",
       "        vertical-align: top;\n",
       "    }\n",
       "\n",
       "    .dataframe thead th {\n",
       "        text-align: right;\n",
       "    }\n",
       "</style>\n",
       "<table border=\"1\" class=\"dataframe\">\n",
       "  <thead>\n",
       "    <tr style=\"text-align: right;\">\n",
       "      <th></th>\n",
       "      <th>PURCHASE_DATE</th>\n",
       "      <th>MAGIC_KEY</th>\n",
       "      <th>BOX_ID</th>\n",
       "      <th>BOX_COUNT</th>\n",
       "    </tr>\n",
       "  </thead>\n",
       "  <tbody>\n",
       "    <tr>\n",
       "      <th>0</th>\n",
       "      <td>1/2/2019</td>\n",
       "      <td>2CED678A247</td>\n",
       "      <td>12.0</td>\n",
       "      <td>1.0</td>\n",
       "    </tr>\n",
       "    <tr>\n",
       "      <th>1</th>\n",
       "      <td>1/2/2019</td>\n",
       "      <td>2BF58D91BA1</td>\n",
       "      <td>12.0</td>\n",
       "      <td>1.0</td>\n",
       "    </tr>\n",
       "    <tr>\n",
       "      <th>2</th>\n",
       "      <td>1/2/2019</td>\n",
       "      <td>2C15B86534E</td>\n",
       "      <td>99.0</td>\n",
       "      <td>1.0</td>\n",
       "    </tr>\n",
       "    <tr>\n",
       "      <th>3</th>\n",
       "      <td>1/2/2019</td>\n",
       "      <td>2C32D9A859A</td>\n",
       "      <td>6.0</td>\n",
       "      <td>1.0</td>\n",
       "    </tr>\n",
       "    <tr>\n",
       "      <th>4</th>\n",
       "      <td>1/2/2019</td>\n",
       "      <td>2C7A55404D1</td>\n",
       "      <td>4.0</td>\n",
       "      <td>1.0</td>\n",
       "    </tr>\n",
       "  </tbody>\n",
       "</table>\n",
       "</div>"
      ],
      "text/plain": [
       "  PURCHASE_DATE    MAGIC_KEY  BOX_ID  BOX_COUNT\n",
       "0      1/2/2019  2CED678A247    12.0        1.0\n",
       "1      1/2/2019  2BF58D91BA1    12.0        1.0\n",
       "2      1/2/2019  2C15B86534E    99.0        1.0\n",
       "3      1/2/2019  2C32D9A859A     6.0        1.0\n",
       "4      1/2/2019  2C7A55404D1     4.0        1.0"
      ]
     },
     "execution_count": 67,
     "metadata": {},
     "output_type": "execute_result"
    }
   ],
   "source": [
    "purchase_df.head()"
   ]
  },
  {
   "cell_type": "code",
   "execution_count": 68,
   "metadata": {},
   "outputs": [],
   "source": [
    "base_date = datetime.date(2018, 10, 1)\n",
    "purchase_df['day'] = purchase_df['PURCHASE_DATE'].apply(lambda x: (datetime.datetime.strptime(x, '%d/%m/%Y').date() - base_date).days)\n",
    "\n"
   ]
  },
  {
   "cell_type": "code",
   "execution_count": 69,
   "metadata": {},
   "outputs": [
    {
     "data": {
      "text/html": [
       "<div>\n",
       "<style scoped>\n",
       "    .dataframe tbody tr th:only-of-type {\n",
       "        vertical-align: middle;\n",
       "    }\n",
       "\n",
       "    .dataframe tbody tr th {\n",
       "        vertical-align: top;\n",
       "    }\n",
       "\n",
       "    .dataframe thead th {\n",
       "        text-align: right;\n",
       "    }\n",
       "</style>\n",
       "<table border=\"1\" class=\"dataframe\">\n",
       "  <thead>\n",
       "    <tr style=\"text-align: right;\">\n",
       "      <th></th>\n",
       "      <th>PURCHASE_DATE</th>\n",
       "      <th>MAGIC_KEY</th>\n",
       "      <th>BOX_ID</th>\n",
       "      <th>BOX_COUNT</th>\n",
       "      <th>day</th>\n",
       "    </tr>\n",
       "  </thead>\n",
       "  <tbody>\n",
       "    <tr>\n",
       "      <th>2186910</th>\n",
       "      <td>8/10/2018</td>\n",
       "      <td>292A1818549</td>\n",
       "      <td>247.0</td>\n",
       "      <td>1.0</td>\n",
       "      <td>7</td>\n",
       "    </tr>\n",
       "    <tr>\n",
       "      <th>314065</th>\n",
       "      <td>16/2/2019</td>\n",
       "      <td>2C16D8245E1</td>\n",
       "      <td>130.0</td>\n",
       "      <td>1.0</td>\n",
       "      <td>138</td>\n",
       "    </tr>\n",
       "    <tr>\n",
       "      <th>1044656</th>\n",
       "      <td>28/1/2019</td>\n",
       "      <td>2CAD8A40A0E</td>\n",
       "      <td>106.0</td>\n",
       "      <td>1.0</td>\n",
       "      <td>119</td>\n",
       "    </tr>\n",
       "    <tr>\n",
       "      <th>1906929</th>\n",
       "      <td>22/11/2018</td>\n",
       "      <td>2CCABEFBFA2</td>\n",
       "      <td>89.0</td>\n",
       "      <td>1.0</td>\n",
       "      <td>52</td>\n",
       "    </tr>\n",
       "    <tr>\n",
       "      <th>1147001</th>\n",
       "      <td>2/12/2018</td>\n",
       "      <td>2BCA84A1B8E</td>\n",
       "      <td>143.0</td>\n",
       "      <td>1.0</td>\n",
       "      <td>62</td>\n",
       "    </tr>\n",
       "    <tr>\n",
       "      <th>558019</th>\n",
       "      <td>28/2/2019</td>\n",
       "      <td>2CD574E8AB9</td>\n",
       "      <td>119.0</td>\n",
       "      <td>1.0</td>\n",
       "      <td>150</td>\n",
       "    </tr>\n",
       "    <tr>\n",
       "      <th>87741</th>\n",
       "      <td>5/2/2019</td>\n",
       "      <td>2C2B08A4208</td>\n",
       "      <td>94.0</td>\n",
       "      <td>1.0</td>\n",
       "      <td>127</td>\n",
       "    </tr>\n",
       "    <tr>\n",
       "      <th>1763381</th>\n",
       "      <td>8/11/2018</td>\n",
       "      <td>28DAF80ECDB</td>\n",
       "      <td>255.0</td>\n",
       "      <td>1.0</td>\n",
       "      <td>38</td>\n",
       "    </tr>\n",
       "    <tr>\n",
       "      <th>676709</th>\n",
       "      <td>5/1/2019</td>\n",
       "      <td>2BDFDE3FBA6</td>\n",
       "      <td>106.0</td>\n",
       "      <td>1.0</td>\n",
       "      <td>96</td>\n",
       "    </tr>\n",
       "    <tr>\n",
       "      <th>58683</th>\n",
       "      <td>3/2/2019</td>\n",
       "      <td>2BF4F656140</td>\n",
       "      <td>119.0</td>\n",
       "      <td>1.0</td>\n",
       "      <td>125</td>\n",
       "    </tr>\n",
       "  </tbody>\n",
       "</table>\n",
       "</div>"
      ],
      "text/plain": [
       "        PURCHASE_DATE    MAGIC_KEY  BOX_ID  BOX_COUNT  day\n",
       "2186910     8/10/2018  292A1818549   247.0        1.0    7\n",
       "314065      16/2/2019  2C16D8245E1   130.0        1.0  138\n",
       "1044656     28/1/2019  2CAD8A40A0E   106.0        1.0  119\n",
       "1906929    22/11/2018  2CCABEFBFA2    89.0        1.0   52\n",
       "1147001     2/12/2018  2BCA84A1B8E   143.0        1.0   62\n",
       "558019      28/2/2019  2CD574E8AB9   119.0        1.0  150\n",
       "87741        5/2/2019  2C2B08A4208    94.0        1.0  127\n",
       "1763381     8/11/2018  28DAF80ECDB   255.0        1.0   38\n",
       "676709       5/1/2019  2BDFDE3FBA6   106.0        1.0   96\n",
       "58683        3/2/2019  2BF4F656140   119.0        1.0  125"
      ]
     },
     "execution_count": 69,
     "metadata": {},
     "output_type": "execute_result"
    }
   ],
   "source": [
    "purchase_df.sample(10)"
   ]
  },
  {
   "cell_type": "code",
   "execution_count": 70,
   "metadata": {},
   "outputs": [],
   "source": [
    "purchase_df.drop(['PURCHASE_DATE'], axis=1, inplace=True)"
   ]
  },
  {
   "cell_type": "code",
   "execution_count": 71,
   "metadata": {},
   "outputs": [],
   "source": [
    "customer_keys = purchase_df['MAGIC_KEY'].unique()\n",
    "customer_ids = {customer_keys[i]: i for i in range(len(customer_keys))}"
   ]
  },
  {
   "cell_type": "code",
   "execution_count": 72,
   "metadata": {},
   "outputs": [],
   "source": [
    "purchase_df.drop(purchase_df[purchase_df['BOX_ID'].isnull()].index, inplace=True)\n",
    "purchase_df.drop(purchase_df[purchase_df['BOX_COUNT'] < 0].index, inplace=True)"
   ]
  },
  {
   "cell_type": "code",
   "execution_count": 73,
   "metadata": {},
   "outputs": [],
   "source": [
    "purchase_df['BOX_COUNT'] = purchase_df['BOX_COUNT'].astype(int)\n",
    "purchase_df['BOX_ID'] = purchase_df['BOX_ID'].astype(int)"
   ]
  },
  {
   "cell_type": "code",
   "execution_count": 74,
   "metadata": {},
   "outputs": [
    {
     "data": {
      "text/html": [
       "<div>\n",
       "<style scoped>\n",
       "    .dataframe tbody tr th:only-of-type {\n",
       "        vertical-align: middle;\n",
       "    }\n",
       "\n",
       "    .dataframe tbody tr th {\n",
       "        vertical-align: top;\n",
       "    }\n",
       "\n",
       "    .dataframe thead th {\n",
       "        text-align: right;\n",
       "    }\n",
       "</style>\n",
       "<table border=\"1\" class=\"dataframe\">\n",
       "  <thead>\n",
       "    <tr style=\"text-align: right;\">\n",
       "      <th></th>\n",
       "      <th>MAGIC_KEY</th>\n",
       "      <th>BOX_ID</th>\n",
       "      <th>BOX_COUNT</th>\n",
       "      <th>day</th>\n",
       "    </tr>\n",
       "  </thead>\n",
       "  <tbody>\n",
       "    <tr>\n",
       "      <th>0</th>\n",
       "      <td>2CED678A247</td>\n",
       "      <td>12</td>\n",
       "      <td>1</td>\n",
       "      <td>123</td>\n",
       "    </tr>\n",
       "    <tr>\n",
       "      <th>1</th>\n",
       "      <td>2BF58D91BA1</td>\n",
       "      <td>12</td>\n",
       "      <td>1</td>\n",
       "      <td>123</td>\n",
       "    </tr>\n",
       "    <tr>\n",
       "      <th>2</th>\n",
       "      <td>2C15B86534E</td>\n",
       "      <td>99</td>\n",
       "      <td>1</td>\n",
       "      <td>123</td>\n",
       "    </tr>\n",
       "    <tr>\n",
       "      <th>3</th>\n",
       "      <td>2C32D9A859A</td>\n",
       "      <td>6</td>\n",
       "      <td>1</td>\n",
       "      <td>123</td>\n",
       "    </tr>\n",
       "    <tr>\n",
       "      <th>4</th>\n",
       "      <td>2C7A55404D1</td>\n",
       "      <td>4</td>\n",
       "      <td>1</td>\n",
       "      <td>123</td>\n",
       "    </tr>\n",
       "    <tr>\n",
       "      <th>5</th>\n",
       "      <td>29D969045C2</td>\n",
       "      <td>238</td>\n",
       "      <td>1</td>\n",
       "      <td>123</td>\n",
       "    </tr>\n",
       "    <tr>\n",
       "      <th>6</th>\n",
       "      <td>28E5EA49074</td>\n",
       "      <td>227</td>\n",
       "      <td>1</td>\n",
       "      <td>123</td>\n",
       "    </tr>\n",
       "    <tr>\n",
       "      <th>7</th>\n",
       "      <td>2CEFA3A8659</td>\n",
       "      <td>6</td>\n",
       "      <td>1</td>\n",
       "      <td>123</td>\n",
       "    </tr>\n",
       "    <tr>\n",
       "      <th>8</th>\n",
       "      <td>2A00DE30F46</td>\n",
       "      <td>204</td>\n",
       "      <td>1</td>\n",
       "      <td>123</td>\n",
       "    </tr>\n",
       "    <tr>\n",
       "      <th>9</th>\n",
       "      <td>291C04B5CBF</td>\n",
       "      <td>231</td>\n",
       "      <td>1</td>\n",
       "      <td>123</td>\n",
       "    </tr>\n",
       "  </tbody>\n",
       "</table>\n",
       "</div>"
      ],
      "text/plain": [
       "     MAGIC_KEY  BOX_ID  BOX_COUNT  day\n",
       "0  2CED678A247      12          1  123\n",
       "1  2BF58D91BA1      12          1  123\n",
       "2  2C15B86534E      99          1  123\n",
       "3  2C32D9A859A       6          1  123\n",
       "4  2C7A55404D1       4          1  123\n",
       "5  29D969045C2     238          1  123\n",
       "6  28E5EA49074     227          1  123\n",
       "7  2CEFA3A8659       6          1  123\n",
       "8  2A00DE30F46     204          1  123\n",
       "9  291C04B5CBF     231          1  123"
      ]
     },
     "execution_count": 74,
     "metadata": {},
     "output_type": "execute_result"
    }
   ],
   "source": [
    "purchase_df.head(10)"
   ]
  },
  {
   "cell_type": "code",
   "execution_count": 75,
   "metadata": {},
   "outputs": [
    {
     "data": {
      "text/plain": [
       "1274087"
      ]
     },
     "execution_count": 75,
     "metadata": {},
     "output_type": "execute_result"
    }
   ],
   "source": [
    "len(purchase_df['MAGIC_KEY'].unique())"
   ]
  },
  {
   "cell_type": "code",
   "execution_count": 76,
   "metadata": {},
   "outputs": [
    {
     "data": {
      "text/plain": [
       "2455800"
      ]
     },
     "execution_count": 76,
     "metadata": {},
     "output_type": "execute_result"
    }
   ],
   "source": [
    "len(purchase_df)"
   ]
  },
  {
   "cell_type": "code",
   "execution_count": 77,
   "metadata": {},
   "outputs": [
    {
     "data": {
      "text/plain": [
       "0          None\n",
       "1          None\n",
       "2          None\n",
       "3          None\n",
       "4          None\n",
       "           ... \n",
       "2455859    None\n",
       "2455860    None\n",
       "2455861    None\n",
       "2455862    None\n",
       "2455863    None\n",
       "Length: 2455800, dtype: object"
      ]
     },
     "execution_count": 77,
     "metadata": {},
     "output_type": "execute_result"
    }
   ],
   "source": [
    "purchases = [[] for _ in range(len(customer_keys))]\n",
    "purchase_df.apply(lambda x: purchases[customer_ids[x['MAGIC_KEY']]].append((x['BOX_ID'], x['BOX_COUNT'], x['day'])), axis=1)"
   ]
  },
  {
   "cell_type": "code",
   "execution_count": 78,
   "metadata": {},
   "outputs": [
    {
     "data": {
      "text/html": [
       "<div>\n",
       "<style scoped>\n",
       "    .dataframe tbody tr th:only-of-type {\n",
       "        vertical-align: middle;\n",
       "    }\n",
       "\n",
       "    .dataframe tbody tr th {\n",
       "        vertical-align: top;\n",
       "    }\n",
       "\n",
       "    .dataframe thead th {\n",
       "        text-align: right;\n",
       "    }\n",
       "</style>\n",
       "<table border=\"1\" class=\"dataframe\">\n",
       "  <thead>\n",
       "    <tr style=\"text-align: right;\">\n",
       "      <th></th>\n",
       "      <th>MAGIC_KEY</th>\n",
       "    </tr>\n",
       "  </thead>\n",
       "  <tbody>\n",
       "    <tr>\n",
       "      <th>0</th>\n",
       "      <td>2BCFE9C06A7</td>\n",
       "    </tr>\n",
       "    <tr>\n",
       "      <th>1</th>\n",
       "      <td>2C2A872B5A2</td>\n",
       "    </tr>\n",
       "    <tr>\n",
       "      <th>2</th>\n",
       "      <td>2C6A897671B</td>\n",
       "    </tr>\n",
       "    <tr>\n",
       "      <th>3</th>\n",
       "      <td>2C6F1287F53</td>\n",
       "    </tr>\n",
       "    <tr>\n",
       "      <th>4</th>\n",
       "      <td>2C658198CC9</td>\n",
       "    </tr>\n",
       "  </tbody>\n",
       "</table>\n",
       "</div>"
      ],
      "text/plain": [
       "     MAGIC_KEY\n",
       "0  2BCFE9C06A7\n",
       "1  2C2A872B5A2\n",
       "2  2C6A897671B\n",
       "3  2C6F1287F53\n",
       "4  2C658198CC9"
      ]
     },
     "execution_count": 78,
     "metadata": {},
     "output_type": "execute_result"
    }
   ],
   "source": [
    "prob3_df =pd.read_csv('robi-datathon-30-qualifier-problem-3/problem 3.csv')\n",
    "prob3_df.head()"
   ]
  },
  {
   "cell_type": "code",
   "execution_count": 79,
   "metadata": {},
   "outputs": [
    {
     "data": {
      "text/plain": [
       "5379"
      ]
     },
     "execution_count": 79,
     "metadata": {},
     "output_type": "execute_result"
    }
   ],
   "source": [
    "len(prob3_df)"
   ]
  },
  {
   "cell_type": "code",
   "execution_count": 80,
   "metadata": {},
   "outputs": [
    {
     "data": {
      "text/plain": [
       "5379"
      ]
     },
     "execution_count": 80,
     "metadata": {},
     "output_type": "execute_result"
    }
   ],
   "source": [
    "prob3_customers = [customer_ids[x] for x in prob3_df['MAGIC_KEY'].unique()]\n",
    "len(prob3_customers)"
   ]
  },
  {
   "cell_type": "code",
   "execution_count": 81,
   "metadata": {},
   "outputs": [],
   "source": [
    "for i, _ in enumerate(purchases):\n",
    "    purchases[i].sort(key=lambda x: x[2])"
   ]
  },
  {
   "cell_type": "code",
   "execution_count": 82,
   "metadata": {},
   "outputs": [
    {
     "name": "stdout",
     "output_type": "stream",
     "text": [
      "single purchase: \n",
      "0 [(12, 1, 123)]\n",
      "1 [(12, 1, 123)]\n",
      "3 [(6, 1, 123)]\n",
      "4 [(4, 1, 123)]\n",
      "6 [(227, 1, 123)]\n",
      "7 [(6, 1, 123)]\n",
      "10 [(12, 1, 123)]\n",
      "11 [(231, 1, 123)]\n",
      "13 [(278, 1, 123)]\n",
      "16 [(231, 1, 123)]\n",
      "more than 5 purchase: \n",
      "5 [(238, 1, 14), (238, 1, 36), (238, 1, 56), (238, 1, 80), (238, 1, 100), (238, 1, 123)]\n",
      "14 [(203, 1, 35), (203, 1, 53), (203, 1, 63), (221, 1, 72), (203, 1, 81), (203, 1, 87), (238, 1, 97), (204, 1, 123), (204, 1, 135), (272, 1, 150)]\n",
      "38 [(8, 1, 15), (8, 1, 30), (8, 1, 60), (8, 1, 82), (8, 1, 104), (8, 1, 123)]\n",
      "39 [(238, 1, 20), (238, 1, 44), (268, 1, 54), (238, 1, 67), (238, 1, 76), (238, 1, 89), (238, 1, 98), (238, 1, 105), (228, 1, 123), (238, 1, 129), (238, 1, 133), (238, 1, 138), (238, 1, 142), (230, 1, 147), (238, 1, 150)]\n",
      "42 [(260, 1, 8), (203, 1, 23), (221, 1, 38), (221, 1, 65), (271, 1, 84), (272, 1, 104), (221, 1, 123), (276, 1, 145)]\n",
      "43 [(137, 1, 6), (137, 1, 23), (137, 1, 42), (137, 1, 62), (137, 1, 79), (174, 1, 97), (174, 1, 123)]\n",
      "44 [(238, 1, 18), (238, 1, 102), (228, 1, 108), (228, 1, 115), (228, 1, 118), (228, 1, 120), (228, 1, 123), (228, 1, 125), (230, 1, 129), (230, 1, 134), (230, 1, 137), (230, 1, 139), (230, 1, 141), (230, 1, 145), (230, 1, 148)]\n",
      "47 [(106, 1, 41), (103, 1, 71), (106, 1, 101), (106, 1, 112), (106, 1, 123), (106, 1, 132)]\n",
      "48 [(106, 1, 18), (106, 1, 40), (103, 1, 71), (106, 1, 100), (106, 1, 123), (108, 1, 150)]\n",
      "51 [(89, 1, 24), (89, 1, 50), (89, 1, 70), (89, 1, 80), (89, 1, 90), (89, 1, 94), (89, 1, 105), (89, 1, 123), (9, 1, 139)]\n"
     ]
    }
   ],
   "source": [
    "a = 10\n",
    "b = 10\n",
    "print(\"single purchase: \")\n",
    "for i, p in enumerate(purchases):\n",
    "    if len(p) == 1:\n",
    "        if a > 0:\n",
    "            print(i, p)\n",
    "            a -= 1\n",
    "\n",
    "print(\"more than 5 purchase: \")\n",
    "for i, p in enumerate(purchases):\n",
    "    if len(p) > 5:\n",
    "        if b > 0:\n",
    "            print(i, p)\n",
    "            b -= 1\n"
   ]
  },
  {
   "cell_type": "code",
   "execution_count": 83,
   "metadata": {},
   "outputs": [
    {
     "data": {
      "text/html": [
       "<div>\n",
       "<style scoped>\n",
       "    .dataframe tbody tr th:only-of-type {\n",
       "        vertical-align: middle;\n",
       "    }\n",
       "\n",
       "    .dataframe tbody tr th {\n",
       "        vertical-align: top;\n",
       "    }\n",
       "\n",
       "    .dataframe thead th {\n",
       "        text-align: right;\n",
       "    }\n",
       "</style>\n",
       "<table border=\"1\" class=\"dataframe\">\n",
       "  <thead>\n",
       "    <tr style=\"text-align: right;\">\n",
       "      <th></th>\n",
       "      <th>BOX_ID</th>\n",
       "      <th>QUALITY</th>\n",
       "      <th>DELIVERY_OPTION</th>\n",
       "      <th>MILK</th>\n",
       "      <th>MEAT</th>\n",
       "      <th>UNIT_PRICE</th>\n",
       "    </tr>\n",
       "  </thead>\n",
       "  <tbody>\n",
       "    <tr>\n",
       "      <th>0</th>\n",
       "      <td>1</td>\n",
       "      <td>Premium</td>\n",
       "      <td>Home Delivery - CoD</td>\n",
       "      <td>0.0</td>\n",
       "      <td>2.7</td>\n",
       "      <td>9.96</td>\n",
       "    </tr>\n",
       "    <tr>\n",
       "      <th>1</th>\n",
       "      <td>2</td>\n",
       "      <td>Premium</td>\n",
       "      <td>Home Delivery - CoD</td>\n",
       "      <td>0.0</td>\n",
       "      <td>2.3</td>\n",
       "      <td>11.96</td>\n",
       "    </tr>\n",
       "    <tr>\n",
       "      <th>2</th>\n",
       "      <td>3</td>\n",
       "      <td>Premium</td>\n",
       "      <td>Home Delivery - CoD</td>\n",
       "      <td>0.0</td>\n",
       "      <td>2.4</td>\n",
       "      <td>11.96</td>\n",
       "    </tr>\n",
       "    <tr>\n",
       "      <th>3</th>\n",
       "      <td>4</td>\n",
       "      <td>Premium</td>\n",
       "      <td>Home Delivery - CoD</td>\n",
       "      <td>0.0</td>\n",
       "      <td>2.5</td>\n",
       "      <td>11.96</td>\n",
       "    </tr>\n",
       "    <tr>\n",
       "      <th>4</th>\n",
       "      <td>5</td>\n",
       "      <td>Premium</td>\n",
       "      <td>Home Delivery - CoD</td>\n",
       "      <td>0.0</td>\n",
       "      <td>2.6</td>\n",
       "      <td>11.96</td>\n",
       "    </tr>\n",
       "    <tr>\n",
       "      <th>5</th>\n",
       "      <td>6</td>\n",
       "      <td>Premium</td>\n",
       "      <td>Home Delivery - CoD</td>\n",
       "      <td>0.0</td>\n",
       "      <td>2.7</td>\n",
       "      <td>11.96</td>\n",
       "    </tr>\n",
       "    <tr>\n",
       "      <th>6</th>\n",
       "      <td>7</td>\n",
       "      <td>Premium</td>\n",
       "      <td>Home Delivery - CoD</td>\n",
       "      <td>0.0</td>\n",
       "      <td>2.8</td>\n",
       "      <td>11.96</td>\n",
       "    </tr>\n",
       "    <tr>\n",
       "      <th>7</th>\n",
       "      <td>8</td>\n",
       "      <td>Premium</td>\n",
       "      <td>Home Delivery - CoD</td>\n",
       "      <td>10.0</td>\n",
       "      <td>0.0</td>\n",
       "      <td>12.18</td>\n",
       "    </tr>\n",
       "    <tr>\n",
       "      <th>8</th>\n",
       "      <td>9</td>\n",
       "      <td>Premium</td>\n",
       "      <td>Home Delivery - CoD</td>\n",
       "      <td>10.5</td>\n",
       "      <td>0.0</td>\n",
       "      <td>12.78</td>\n",
       "    </tr>\n",
       "    <tr>\n",
       "      <th>9</th>\n",
       "      <td>10</td>\n",
       "      <td>Premium</td>\n",
       "      <td>Home Delivery - CoD</td>\n",
       "      <td>8.0</td>\n",
       "      <td>1.3</td>\n",
       "      <td>12.98</td>\n",
       "    </tr>\n",
       "  </tbody>\n",
       "</table>\n",
       "</div>"
      ],
      "text/plain": [
       "   BOX_ID  QUALITY      DELIVERY_OPTION  MILK  MEAT  UNIT_PRICE\n",
       "0       1  Premium  Home Delivery - CoD   0.0   2.7        9.96\n",
       "1       2  Premium  Home Delivery - CoD   0.0   2.3       11.96\n",
       "2       3  Premium  Home Delivery - CoD   0.0   2.4       11.96\n",
       "3       4  Premium  Home Delivery - CoD   0.0   2.5       11.96\n",
       "4       5  Premium  Home Delivery - CoD   0.0   2.6       11.96\n",
       "5       6  Premium  Home Delivery - CoD   0.0   2.7       11.96\n",
       "6       7  Premium  Home Delivery - CoD   0.0   2.8       11.96\n",
       "7       8  Premium  Home Delivery - CoD  10.0   0.0       12.18\n",
       "8       9  Premium  Home Delivery - CoD  10.5   0.0       12.78\n",
       "9      10  Premium  Home Delivery - CoD   8.0   1.3       12.98"
      ]
     },
     "execution_count": 83,
     "metadata": {},
     "output_type": "execute_result"
    }
   ],
   "source": [
    "boxes_df.head(10)"
   ]
  },
  {
   "cell_type": "code",
   "execution_count": 84,
   "metadata": {},
   "outputs": [
    {
     "data": {
      "text/plain": [
       "290"
      ]
     },
     "execution_count": 84,
     "metadata": {},
     "output_type": "execute_result"
    }
   ],
   "source": [
    "len(boxes_df)"
   ]
  },
  {
   "cell_type": "code",
   "execution_count": 85,
   "metadata": {},
   "outputs": [],
   "source": [
    "def meat_consumed(cid, start_day, end_day):\n",
    "    boxes = filter(lambda x: x[2] >= start_day and x[2] < end_day, purchases[cid])\n",
    "    meat_consumed = 0\n",
    "    for id, cnt, _ in boxes:\n",
    "        meat_consumed += cnt * boxes_df.at[id - 1, 'MEAT']\n",
    "    return meat_consumed\n",
    "\n",
    "def milk_consumed(cid, start_day, end_day):\n",
    "    boxes = filter(lambda x: x[2] >= start_day and x[2] < end_day, purchases[cid])\n",
    "    milk_consumed = 0\n",
    "    for id, cnt, _ in boxes:\n",
    "        milk_consumed += cnt * boxes_df.at[id - 1, 'MILK']\n",
    "    return milk_consumed\n",
    "\n",
    "\n",
    "def meat_consumption_rate(cid):\n",
    "    end_day = 151\n",
    "    consumptions = list(filter(lambda x: x[2] < end_day and boxes_df.at[x[0] - 1, 'MEAT'] > 0.0, purchases[cid]))\n",
    "    if len(consumptions) == 0:\n",
    "        return 0.0\n",
    "    start = consumptions[0][2]\n",
    "    return meat_consumed(cid, start, end_day) / (end_day - start)\n",
    "\n",
    "def milk_consumption_rate(cid):\n",
    "    end_day = 151\n",
    "    consumptions = list(filter(lambda x: x[2] < end_day and boxes_df.at[x[0] - 1, 'MILK'] > 0.0, purchases[cid]))\n",
    "    if len(consumptions) == 0:\n",
    "        return 0.0\n",
    "    start = consumptions[0][2]\n",
    "    return milk_consumed(cid, start, end_day) / (end_day - start)"
   ]
  },
  {
   "cell_type": "code",
   "execution_count": 86,
   "metadata": {},
   "outputs": [
    {
     "data": {
      "text/plain": [
       "150"
      ]
     },
     "execution_count": 86,
     "metadata": {},
     "output_type": "execute_result"
    }
   ],
   "source": [
    "last_day = purchase_df['day'].max()\n",
    "last_day"
   ]
  },
  {
   "cell_type": "code",
   "execution_count": 87,
   "metadata": {},
   "outputs": [
    {
     "data": {
      "text/plain": [
       "150"
      ]
     },
     "execution_count": 87,
     "metadata": {},
     "output_type": "execute_result"
    }
   ],
   "source": [
    "last_date = datetime.date(2019, 2, 28)\n",
    "(last_date - base_date).days"
   ]
  },
  {
   "cell_type": "code",
   "execution_count": 88,
   "metadata": {},
   "outputs": [
    {
     "data": {
      "text/plain": [
       "0"
      ]
     },
     "execution_count": 88,
     "metadata": {},
     "output_type": "execute_result"
    }
   ],
   "source": [
    "first_day = purchase_df['day'].min()\n",
    "first_day"
   ]
  },
  {
   "cell_type": "code",
   "execution_count": 89,
   "metadata": {},
   "outputs": [
    {
     "data": {
      "text/plain": [
       "0.05357142857142857"
      ]
     },
     "execution_count": 89,
     "metadata": {},
     "output_type": "execute_result"
    }
   ],
   "source": [
    "meat_consumption_rate(0)"
   ]
  },
  {
   "cell_type": "code",
   "execution_count": 90,
   "metadata": {},
   "outputs": [
    {
     "data": {
      "text/plain": [
       "[4.4, 27]"
      ]
     },
     "execution_count": 90,
     "metadata": {},
     "output_type": "execute_result"
    }
   ],
   "source": [
    "def last_meat_consumption(cid, end_day=151):\n",
    "    consumptions = list(filter(lambda x: x[2] < end_day and boxes_df.at[x[0] - 1, 'MEAT'] > 0.0, purchases[cid]))\n",
    "    try:\n",
    "        bid, cnt, day = consumptions[-1]\n",
    "    except:\n",
    "        return None\n",
    "    return [cnt * boxes_df.at[bid - 1, 'MEAT'], \n",
    "            end_day - day]\n",
    "last_meat_consumption(3588, 150)"
   ]
  },
  {
   "cell_type": "code",
   "execution_count": 91,
   "metadata": {},
   "outputs": [
    {
     "name": "stdout",
     "output_type": "stream",
     "text": [
      "[[0.024657534246575342, 0.2191780821917808, 1.8, 10], [0.09337748344370862, 0.6754966887417219, 1.8, 15], [0.024657534246575342, 0.2191780821917808, 1.8, 10], [0.07655172413793103, 0.0, 3.6, 9], [0.03377483443708609, 0.10596026490066225, 1.8, 15], [0.07567567567567568, 0.0, 2.7, 12], [0.09375, 0.625, 1.3, 8], [0.1221476510067114, 0.3221476510067114, 1.8, 13], [0.03768115942028986, 0.2971014492753623, 1.6, 2], [0.08169014084507044, 0.676056338028169, 1.8, 6]]\n",
      "[1.8, 1.8, 1.8, 3.5, 3.3, 3.6, 1.8, 4.0, 1.8, 1.8]\n"
     ]
    }
   ],
   "source": [
    "split = int(len(purchases) * 0.1)\n",
    "idx = [i for i in range(len(purchases))]\n",
    "random.shuffle(idx)\n",
    "val_idx = idx[:split]\n",
    "train_idx = idx[split:]\n",
    "\n",
    "def generate_batch(day, batch_size, split='train'):\n",
    "    batch = []\n",
    "    labels = []\n",
    "    n = 0\n",
    "    if split == 'train':\n",
    "        random.shuffle(train_idx)\n",
    "        current_idx = train_idx\n",
    "    else:\n",
    "        random.shuffle(val_idx)\n",
    "        current_idx = val_idx\n",
    "    for cid in current_idx:\n",
    "        if len(purchases[cid]) < 2:\n",
    "            continue\n",
    "        last_meat = last_meat_consumption(cid, day)\n",
    "        if last_meat is not None:\n",
    "            rate1 = meat_consumption_rate(cid)\n",
    "            rate2 = milk_consumption_rate(cid)\n",
    "            next_meat = meat_consumed(cid, day, day + 15)\n",
    "            if next_meat > 0.0:\n",
    "                features = [rate1, rate2]\n",
    "                features.extend(last_meat)\n",
    "                batch.append(features)\n",
    "                labels.append(next_meat)\n",
    "                n += 1\n",
    "                if split=='train' and n == batch_size:\n",
    "                    return batch, labels\n",
    "    if split == 'train':\n",
    "        return None, None\n",
    "    else:\n",
    "        return batch, labels\n",
    "batch, labels = generate_batch(15, 10)\n",
    "print(batch)\n",
    "print(labels)"
   ]
  },
  {
   "cell_type": "code",
   "execution_count": 92,
   "metadata": {},
   "outputs": [
    {
     "data": {
      "text/plain": [
       "tensor([1.5466, 2.4872, 1.5466, 1.1121, 2.4628, 1.7867, 1.2673, 2.1026, 0.0975,\n",
       "        0.8413], device='cuda:0', grad_fn=<ViewBackward0>)"
      ]
     },
     "execution_count": 92,
     "metadata": {},
     "output_type": "execute_result"
    }
   ],
   "source": [
    "import gc\n",
    "\n",
    "class MeatPredictor(torch.nn.Module):\n",
    "    def __init__(self):\n",
    "        super(MeatPredictor, self).__init__()\n",
    "        self.mlp = torch.nn.Sequential(\n",
    "            torch.nn.Linear(4, 64),\n",
    "            torch.nn.ReLU(),\n",
    "            torch.nn.Linear(64, 128),\n",
    "            torch.nn.ReLU(),\n",
    "            torch.nn.Linear(128, 64),\n",
    "            torch.nn.ReLU(),\n",
    "            torch.nn.Linear(64, 1), \n",
    "            torch.nn.ReLU()\n",
    "        )\n",
    "    def forward(self, x):\n",
    "        return self.mlp(x).reshape(-1)\n",
    "\n",
    "model = MeatPredictor().cuda()\n",
    "model(torch.tensor(batch, dtype=torch.float32).cuda())"
   ]
  },
  {
   "cell_type": "code",
   "execution_count": 93,
   "metadata": {},
   "outputs": [
    {
     "name": "stdout",
     "output_type": "stream",
     "text": [
      "0 9.38676929473877\n",
      "Validation loss:  35.77566146850586\n",
      "10 12.606657981872559\n",
      "20 2.4572548866271973\n",
      "Validation loss:  3.8805131912231445\n",
      "30 3.5723400115966797\n",
      "40 3.325395345687866\n",
      "Validation loss:  3.659686803817749\n",
      "50 3.0149009227752686\n",
      "60 1.9966638088226318\n",
      "Validation loss:  3.783442974090576\n",
      "70 1.3174002170562744\n",
      "80 2.331120491027832\n",
      "Validation loss:  2.9084737300872803\n",
      "90 1.8997175693511963\n",
      "100 3.1019058227539062\n",
      "Validation loss:  2.7042176723480225\n",
      "110 1.5167392492294312\n",
      "120 1.3443533182144165\n",
      "Validation loss:  2.0388729572296143\n",
      "130 1.6298325061798096\n",
      "140 0.925134003162384\n",
      "Validation loss:  1.6237194538116455\n",
      "150 0.8593209981918335\n",
      "160 1.2267444133758545\n",
      "Validation loss:  1.5867784023284912\n",
      "170 0.5649392604827881\n",
      "180 0.4686717987060547\n",
      "Validation loss:  0.9630466103553772\n",
      "190 0.22463130950927734\n",
      "200 0.5144667029380798\n",
      "Validation loss:  0.733742892742157\n",
      "210 0.22954094409942627\n",
      "220 0.4511116147041321\n",
      "Validation loss:  0.6748250722885132\n",
      "230 0.24186798930168152\n",
      "240 0.624718189239502\n",
      "Validation loss:  0.6590007543563843\n",
      "250 0.14340586960315704\n",
      "260 0.3851534426212311\n",
      "Validation loss:  0.6161171197891235\n",
      "270 0.27792733907699585\n",
      "280 0.23440194129943848\n",
      "Validation loss:  0.5976564884185791\n",
      "290 0.2814096212387085\n",
      "300 0.2552070617675781\n",
      "Validation loss:  0.5829893946647644\n",
      "310 0.1930161863565445\n",
      "320 0.21317026019096375\n",
      "Validation loss:  0.573514461517334\n",
      "330 0.2169259488582611\n",
      "340 0.23484349250793457\n",
      "Validation loss:  0.5667976140975952\n",
      "350 0.2813326120376587\n",
      "360 0.16985668241977692\n",
      "Validation loss:  0.5654296278953552\n",
      "370 0.19987303018569946\n",
      "380 0.3582778871059418\n",
      "Validation loss:  0.5436537265777588\n",
      "390 0.3650999665260315\n",
      "400 0.24984493851661682\n",
      "Validation loss:  0.5420234799385071\n",
      "410 0.1851814240217209\n",
      "420 0.253418892621994\n",
      "Validation loss:  0.5453563928604126\n",
      "430 0.15574392676353455\n",
      "440 0.21304833889007568\n",
      "Validation loss:  0.5275339484214783\n",
      "450 0.21873046457767487\n",
      "460 0.1394350826740265\n",
      "Validation loss:  0.528017520904541\n",
      "470 0.2841336727142334\n",
      "480 0.06984253972768784\n",
      "Validation loss:  0.5191048383712769\n",
      "490 0.309139609336853\n",
      "500 0.18773868680000305\n",
      "Validation loss:  0.516796886920929\n",
      "510 0.1804424524307251\n",
      "520 0.2707716226577759\n",
      "Validation loss:  0.5165072679519653\n",
      "530 0.17917689681053162\n",
      "540 0.18843212723731995\n",
      "Validation loss:  0.5136527419090271\n",
      "550 0.21842801570892334\n",
      "560 0.2110222727060318\n",
      "Validation loss:  0.5060579180717468\n",
      "570 0.1362631916999817\n",
      "580 0.36851823329925537\n",
      "Validation loss:  0.503775954246521\n",
      "590 0.14837224781513214\n",
      "600 0.23973529040813446\n",
      "Validation loss:  0.514723539352417\n",
      "610 0.1826411634683609\n",
      "620 0.14299802482128143\n",
      "Validation loss:  0.5013826489448547\n",
      "630 0.20287975668907166\n",
      "640 0.1730441302061081\n",
      "Validation loss:  0.5009300112724304\n",
      "650 0.056595541536808014\n",
      "660 0.2655982971191406\n",
      "Validation loss:  0.4959865212440491\n",
      "670 0.17174413800239563\n",
      "680 0.1953251212835312\n",
      "Validation loss:  0.4975253939628601\n",
      "690 0.30420923233032227\n",
      "700 0.21346542239189148\n",
      "Validation loss:  0.4957665503025055\n",
      "710 0.19106847047805786\n",
      "720 0.17723967134952545\n",
      "Validation loss:  0.49405166506767273\n",
      "730 0.15326693654060364\n",
      "740 0.10873067378997803\n",
      "Validation loss:  0.4960981011390686\n",
      "750 0.28143802285194397\n",
      "760 0.14377760887145996\n",
      "Validation loss:  0.4967425763607025\n",
      "770 0.3034423887729645\n",
      "780 0.17521917819976807\n",
      "Validation loss:  0.49624112248420715\n",
      "790 0.21400907635688782\n",
      "800 0.21508532762527466\n",
      "Validation loss:  0.4874022603034973\n",
      "810 0.1559395045042038\n",
      "820 0.12162710726261139\n",
      "Validation loss:  0.49467799067497253\n",
      "830 0.17167437076568604\n",
      "840 0.28271520137786865\n",
      "Validation loss:  0.4863932132720947\n",
      "850 0.30488020181655884\n",
      "860 0.1947161704301834\n",
      "Validation loss:  0.48616090416908264\n",
      "870 0.17875869572162628\n",
      "880 0.3019619882106781\n",
      "Validation loss:  0.49401694536209106\n",
      "890 0.17932835221290588\n",
      "900 0.16375437378883362\n",
      "Validation loss:  0.4863314926624298\n",
      "910 0.16857728362083435\n",
      "920 0.39225393533706665\n",
      "Validation loss:  0.5027822852134705\n",
      "930 0.28263232111930847\n",
      "940 0.2215103954076767\n",
      "Validation loss:  0.4837930500507355\n",
      "950 0.30399638414382935\n",
      "960 0.2949365973472595\n",
      "Validation loss:  0.484813928604126\n",
      "970 0.07809096574783325\n",
      "980 0.20678335428237915\n",
      "Validation loss:  0.48464837670326233\n",
      "990 0.17790941894054413\n",
      "1000 0.19238270819187164\n",
      "Validation loss:  0.48422518372535706\n",
      "1010 0.11783018708229065\n",
      "1020 0.25286269187927246\n",
      "Validation loss:  0.4853837192058563\n",
      "1030 0.29062291979789734\n",
      "1040 0.5555498003959656\n",
      "Validation loss:  0.49362173676490784\n",
      "1050 0.16119858622550964\n",
      "1060 0.24209442734718323\n",
      "Validation loss:  0.48983678221702576\n",
      "1070 0.2307353913784027\n",
      "1080 0.2991834878921509\n",
      "Validation loss:  0.48294466733932495\n",
      "1090 0.19822853803634644\n",
      "1100 0.2129461020231247\n",
      "Validation loss:  0.48725277185440063\n",
      "1110 0.07843037694692612\n",
      "1120 0.1855902373790741\n",
      "Validation loss:  0.4819509983062744\n",
      "1130 0.11436983942985535\n",
      "1140 0.18641391396522522\n",
      "Validation loss:  0.48168662190437317\n",
      "1150 0.15313169360160828\n",
      "1160 0.18781253695487976\n",
      "Validation loss:  0.4817460775375366\n",
      "1170 0.16968359053134918\n",
      "1180 0.16859367489814758\n",
      "Validation loss:  0.4892927408218384\n",
      "1190 0.16969159245491028\n",
      "1200 0.14558565616607666\n",
      "Validation loss:  0.48655974864959717\n",
      "1210 0.25976815819740295\n",
      "1220 0.13291169703006744\n",
      "Validation loss:  0.48693811893463135\n",
      "1230 0.2756637930870056\n",
      "1240 0.2827807366847992\n",
      "Validation loss:  0.4816771447658539\n",
      "1250 0.19655819237232208\n",
      "1260 0.375114381313324\n",
      "Validation loss:  0.48159101605415344\n",
      "1270 0.20048192143440247\n",
      "1280 0.486977756023407\n",
      "Validation loss:  0.48693394660949707\n",
      "1290 0.16712328791618347\n",
      "1300 0.1895514875650406\n",
      "Validation loss:  0.48227715492248535\n",
      "1310 0.2681378126144409\n",
      "1320 0.20903435349464417\n",
      "Validation loss:  0.48655983805656433\n",
      "1330 0.1813315898180008\n",
      "1340 0.10895495116710663\n",
      "Validation loss:  0.4889450967311859\n",
      "1350 0.20637820661067963\n",
      "1360 0.19691801071166992\n",
      "Validation loss:  0.5052977800369263\n",
      "1370 0.20380127429962158\n",
      "1380 0.0997527539730072\n",
      "Validation loss:  0.5117643475532532\n",
      "1390 0.1960238367319107\n",
      "1400 0.23652248084545135\n",
      "Validation loss:  0.5005863904953003\n",
      "1410 0.14006200432777405\n",
      "1420 0.5608348250389099\n",
      "Validation loss:  0.4814322888851166\n",
      "1430 0.2952580749988556\n",
      "1440 0.17710129916667938\n",
      "Validation loss:  0.48858585953712463\n",
      "1450 0.11852304637432098\n",
      "1460 0.3404545783996582\n",
      "Validation loss:  0.48142263293266296\n",
      "1470 0.2165469229221344\n",
      "1480 0.14595955610275269\n",
      "Validation loss:  0.4921148717403412\n",
      "1490 0.2255765050649643\n",
      "1500 0.19515331089496613\n",
      "Validation loss:  0.4893718361854553\n",
      "1510 0.22386687994003296\n",
      "1520 0.21936151385307312\n",
      "Validation loss:  0.48282352089881897\n",
      "1530 0.12996616959571838\n",
      "1540 0.22848640382289886\n",
      "Validation loss:  0.4795803427696228\n",
      "1550 0.3152827024459839\n",
      "1560 0.2494071125984192\n",
      "Validation loss:  0.4802599847316742\n",
      "1570 0.21391552686691284\n",
      "1580 0.29044482111930847\n",
      "Validation loss:  0.4963812232017517\n",
      "1590 0.25397932529449463\n",
      "1600 0.17514649033546448\n",
      "Validation loss:  0.47989216446876526\n",
      "1610 0.16861438751220703\n",
      "1620 0.2797154486179352\n",
      "Validation loss:  0.48689407110214233\n",
      "1630 0.28537750244140625\n",
      "1640 0.165360227227211\n",
      "Validation loss:  0.47865551710128784\n",
      "1650 0.20167414844036102\n",
      "1660 0.30156368017196655\n",
      "Validation loss:  0.47955322265625\n",
      "1670 0.17554043233394623\n",
      "1680 0.15075340867042542\n",
      "Validation loss:  0.4869919419288635\n",
      "1690 0.1991734504699707\n",
      "1700 0.25054430961608887\n",
      "Validation loss:  0.48297205567359924\n",
      "1710 0.17278623580932617\n",
      "1720 0.23497092723846436\n",
      "Validation loss:  0.48799604177474976\n",
      "1730 0.08705411851406097\n",
      "1740 0.10719866305589676\n",
      "Validation loss:  0.47781845927238464\n",
      "1750 0.2814136743545532\n",
      "1760 0.1574474424123764\n",
      "Validation loss:  0.5219341516494751\n",
      "1770 0.14903880655765533\n",
      "1780 0.19534607231616974\n",
      "Validation loss:  0.4826095402240753\n",
      "1790 0.19968631863594055\n",
      "1800 0.27759671211242676\n",
      "Validation loss:  0.5311418175697327\n",
      "1810 0.22501951456069946\n",
      "1820 0.1709962636232376\n",
      "Validation loss:  0.4956477880477905\n",
      "1830 0.22058644890785217\n",
      "1840 0.13515493273735046\n",
      "Validation loss:  0.47706183791160583\n",
      "1850 0.1331477016210556\n",
      "1860 0.2931002676486969\n",
      "Validation loss:  0.47628575563430786\n",
      "1870 0.15025939047336578\n",
      "1880 0.1670854389667511\n",
      "Validation loss:  0.4766666889190674\n",
      "1890 0.23524731397628784\n",
      "1900 0.11746299266815186\n",
      "Validation loss:  0.4791117310523987\n",
      "1910 0.2463846653699875\n",
      "1920 0.20548973977565765\n",
      "Validation loss:  0.4755479097366333\n",
      "1930 0.30182981491088867\n",
      "1940 0.14795485138893127\n",
      "Validation loss:  0.49042442440986633\n",
      "1950 0.13713447749614716\n",
      "1960 0.15471859276294708\n",
      "Validation loss:  0.4750223755836487\n",
      "1970 0.14471891522407532\n",
      "1980 0.278221070766449\n",
      "Validation loss:  0.47600728273391724\n",
      "1990 0.06994295865297318\n"
     ]
    },
    {
     "data": {
      "text/plain": [
       "<All keys matched successfully>"
      ]
     },
     "execution_count": 93,
     "metadata": {},
     "output_type": "execute_result"
    }
   ],
   "source": [
    "\n",
    "\n",
    "torch.cuda.empty_cache()\n",
    "gc.collect()\n",
    "\n",
    "loss_fn = torch.nn.MSELoss()\n",
    "optimizer = torch.optim.Adam(model.parameters(), lr=0.001)\n",
    "best_loss = 1e9\n",
    "batch_size = 64\n",
    "epochs = 2000\n",
    "\n",
    "val, val_labels = generate_batch(136, split, 'val')\n",
    "val = torch.tensor(val, dtype=torch.float32).cuda()\n",
    "val_labels = torch.tensor(val_labels, dtype=torch.float32).cuda()\n",
    "\n",
    "for epoch in range(epochs):\n",
    "    batch, labels = generate_batch(random.randint(70, 136), batch_size)\n",
    "    if batch is None:\n",
    "        continue\n",
    "    batch = torch.tensor(batch, dtype=torch.float32).cuda()\n",
    "    labels = torch.tensor(labels, dtype=torch.float32).cuda()\n",
    "    optimizer.zero_grad()\n",
    "    outputs = model(batch)\n",
    "    loss = loss_fn(outputs, labels)\n",
    "    loss.backward()\n",
    "    optimizer.step()\n",
    "    if epoch % 10 == 0:\n",
    "        print(epoch, loss.item())\n",
    "    if epoch % 20 == 0:\n",
    "        val_outputs = model(val)\n",
    "        val_loss = loss_fn(val_outputs, val_labels)\n",
    "        print(\"Validation loss: \", val_loss.item())\n",
    "        if val_loss.item() < best_loss:\n",
    "            torch.save(model.state_dict(), 'meat_predictor.pth')\n",
    "            best_loss = val_loss.item()\n",
    "\n",
    "model.load_state_dict(torch.load('meat_predictor.pth'))"
   ]
  },
  {
   "cell_type": "code",
   "execution_count": 94,
   "metadata": {},
   "outputs": [
    {
     "name": "stdout",
     "output_type": "stream",
     "text": [
      "best loss:  0.4750223755836487\n"
     ]
    }
   ],
   "source": [
    "print(\"best loss: \", best_loss)"
   ]
  },
  {
   "cell_type": "code",
   "execution_count": 95,
   "metadata": {},
   "outputs": [],
   "source": [
    "def predict(cid, day):\n",
    "    rate1 = meat_consumption_rate(cid)\n",
    "    rate2 = milk_consumption_rate(cid)\n",
    "    last_meat = last_meat_consumption(cid, day)\n",
    "    if last_meat is not None:\n",
    "        features = [rate1, rate2]\n",
    "        features.extend(last_meat)\n",
    "        return model(torch.tensor(features, dtype=torch.float32).cuda()).item()\n",
    "    return 0.0"
   ]
  },
  {
   "cell_type": "code",
   "execution_count": 96,
   "metadata": {},
   "outputs": [],
   "source": [
    "\n",
    "data = []\n",
    "for cid in prob3_customers:\n",
    "    data.append({\n",
    "        'MAGIC_KEY': customer_keys[cid],\n",
    "        'MEAT': predict(cid, 151)\n",
    "    })\n",
    "sub_df = pd.DataFrame(data, columns=['MAGIC_KEY', 'MEAT'])\n",
    "sub_df.to_csv('submission.csv', index=False)"
   ]
  }
 ],
 "metadata": {
  "kernelspec": {
   "display_name": "base",
   "language": "python",
   "name": "python3"
  },
  "language_info": {
   "codemirror_mode": {
    "name": "ipython",
    "version": 3
   },
   "file_extension": ".py",
   "mimetype": "text/x-python",
   "name": "python",
   "nbconvert_exporter": "python",
   "pygments_lexer": "ipython3",
   "version": "3.11.0"
  }
 },
 "nbformat": 4,
 "nbformat_minor": 2
}

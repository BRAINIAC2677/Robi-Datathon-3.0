{
 "cells": [
  {
   "cell_type": "code",
   "execution_count": 1,
   "metadata": {},
   "outputs": [],
   "source": [
    "import pandas as pd"
   ]
  },
  {
   "cell_type": "code",
   "execution_count": 4,
   "metadata": {},
   "outputs": [],
   "source": [
    "df = pd.read_csv('kaggle/input/robi-datathon-30-qualifier-problem-1/purchase.csv')\n",
    "db = pd.read_csv('kaggle/input/robi-datathon-30-qualifier-problem-1/boxes.csv')"
   ]
  },
  {
   "cell_type": "markdown",
   "metadata": {},
   "source": [
    "4. How many records have missing information?"
   ]
  },
  {
   "cell_type": "code",
   "execution_count": 5,
   "metadata": {},
   "outputs": [
    {
     "name": "stdout",
     "output_type": "stream",
     "text": [
      "        PURCHASE_DATE    MAGIC_KEY  BOX_ID  BOX_COUNT\n",
      "177          1/2/2019  28FF265F082     NaN        NaN\n",
      "178          1/2/2019  2CB168CDFA3     NaN        NaN\n",
      "179          1/2/2019  2C2C8844F09     NaN        NaN\n",
      "180          1/2/2019  2BDCCEF05A4     NaN        NaN\n",
      "181          1/2/2019  2BF1D98D0B2     NaN        NaN\n",
      "182          1/2/2019  2BDC3619EAF     NaN        NaN\n",
      "183          1/2/2019  290D33249B7     NaN        NaN\n",
      "184          1/2/2019  2BE266F8C55     NaN        NaN\n",
      "185          1/2/2019  2903192D056     NaN        NaN\n",
      "186          1/2/2019  2BE34886311     NaN        NaN\n",
      "187          1/2/2019  29E5BBC4C1C     NaN        NaN\n",
      "188          1/2/2019  2C5D80EF887     NaN        NaN\n",
      "189          1/2/2019  2CE917B8F56     NaN        NaN\n",
      "190          1/2/2019  2C0BB928475     NaN        NaN\n",
      "235979      12/2/2019  2CB168CDFA3     NaN        NaN\n",
      "379928      20/2/2019  2C2C8844F09     NaN        NaN\n",
      "380268      20/2/2019  290D33249B7     NaN        NaN\n",
      "399457      21/2/2019  2BDC3619EAF     NaN        NaN\n",
      "497112      25/2/2019  290D33249B7     NaN        NaN\n",
      "658423       4/1/2019  2BDC3619EAF     NaN        NaN\n",
      "709879       7/1/2019  28FF265F082     NaN        NaN\n",
      "912944      19/1/2019  2CE917B8F56     NaN        NaN\n",
      "913684      19/1/2019  2CB168CDFA3     NaN        NaN\n",
      "1042550     27/1/2019  2CE917B8F56     NaN        NaN\n",
      "1137208     3/12/2018  290D33249B7     NaN        NaN\n",
      "1188336     5/12/2018  2BE34886311     NaN        NaN\n",
      "1193731     5/12/2018  2BDC3619EAF     NaN        NaN\n",
      "1194926     6/12/2018  2C2C8844F09     NaN        NaN\n",
      "1250132     9/12/2018  2BE266F8C55     NaN        NaN\n",
      "1386953    24/12/2018  2CB168CDFA3     NaN        NaN\n",
      "1482810    21/12/2018  2BE266F8C55     NaN        NaN\n",
      "1578787    26/12/2018  29E5BBC4C1C     NaN        NaN\n",
      "1644933    10/11/2018  2BF1D98D0B2     NaN        NaN\n",
      "1688141     5/11/2018  2BE34886311     NaN        NaN\n",
      "1708925    15/11/2018  2C2C8844F09     NaN        NaN\n",
      "1716682    27/11/2018  2CB168CDFA3     NaN        NaN\n",
      "1782307     8/11/2018  2CB168CDFA3     NaN        NaN\n",
      "1846770     4/11/2018  2BDC3619EAF     NaN        NaN\n",
      "1951213     2/11/2018  29E5BBC4C1C     NaN        NaN\n",
      "1954217     2/11/2018  2CE917B8F56     NaN        NaN\n",
      "2144312    10/10/2018  2CE917B8F56     NaN        NaN\n",
      "2181361     9/10/2018  2CB168CDFA3     NaN        NaN\n",
      "2188029     9/10/2018  2BE34886311     NaN        NaN\n",
      "2228380    18/10/2018  2BE266F8C55     NaN        NaN\n",
      "2240877    18/10/2018  2BDC3619EAF     NaN        NaN\n",
      "2243419    17/10/2018  2BF1D98D0B2     NaN        NaN\n",
      "2250877    16/10/2018  2C2C8844F09     NaN        NaN\n",
      "47\n"
     ]
    }
   ],
   "source": [
    "df_null = df[df.isnull().any(axis=1)]\n",
    "print(df_null)\n",
    "print(len(df_null))"
   ]
  },
  {
   "cell_type": "markdown",
   "metadata": {},
   "source": [
    "5. How many records are invalid?"
   ]
  },
  {
   "cell_type": "code",
   "execution_count": 11,
   "metadata": {},
   "outputs": [
    {
     "name": "stdout",
     "output_type": "stream",
     "text": [
      "        PURCHASE_DATE    MAGIC_KEY      BOX_ID  BOX_COUNT\n",
      "191          1/2/2019  2CCB122460D  11111111.0       -1.0\n",
      "192          1/2/2019  2CEDA71E3E9  11111111.0       -1.0\n",
      "193          1/2/2019  2CBDC970258  11111111.0       -1.0\n",
      "194          1/2/2019  2932761FEB6  11111111.0       -1.0\n",
      "195          1/2/2019  28F09714410  11111111.0       -1.0\n",
      "196          1/2/2019  2BDAE37A00E  11111111.0       -1.0\n",
      "197          1/2/2019  2C3C7E168F7  11111111.0       -1.0\n",
      "525713      27/2/2019  2C3C7E168F7  11111111.0       -1.0\n",
      "597615       1/1/2019  2CEDA71E3E9  11111111.0       -1.0\n",
      "665861       5/1/2019  2C3C7E168F7  11111111.0       -1.0\n",
      "688095       6/1/2019  2CBDC970258  11111111.0       -1.0\n",
      "1251257    10/12/2018  2C3C7E168F7  11111111.0       -1.0\n",
      "1834669    10/11/2018  2C3C7E168F7  11111111.0       -1.0\n",
      "1943916    24/11/2018  2CBDC970258  11111111.0       -1.0\n",
      "2002908     5/10/2018  2CBDC970258  11111111.0       -1.0\n",
      "2105309    13/10/2018  2BDAE37A00E  11111111.0       -1.0\n",
      "2123428    12/10/2018  2C3C7E168F7  11111111.0       -1.0\n",
      "17\n"
     ]
    }
   ],
   "source": [
    "df_invalid = df[df.BOX_COUNT <= 0 | df.BOX_ID.isnull() | (df.BOX_ID > 290)]\n",
    "print(df_invalid)\n",
    "print(len(df_invalid))"
   ]
  },
  {
   "cell_type": "markdown",
   "metadata": {},
   "source": [
    "6. What is the monthly meat sales quantity for Feb'19? "
   ]
  },
  {
   "cell_type": "code",
   "execution_count": 19,
   "metadata": {},
   "outputs": [
    {
     "name": "stdout",
     "output_type": "stream",
     "text": [
      "1272671.6\n"
     ]
    }
   ],
   "source": [
    "df['PURCHASE_DATE'] = pd.to_datetime(df['PURCHASE_DATE'], format='%d/%m/%Y')\n",
    "df_feb = df[(df['PURCHASE_DATE'].dt.year == 2019) & (df['PURCHASE_DATE'].dt.month == 2)]\n",
    "dc = df_feb.merge(db, on=\"BOX_ID\", how=\"inner\")\n",
    "dc['MUL'] = dc['BOX_COUNT'] * dc['MEAT']\n",
    "print(dc['MUL'].sum())"
   ]
  },
  {
   "cell_type": "markdown",
   "metadata": {},
   "source": [
    "7. What is the Month-on-Month meat sales amount growth% on average?"
   ]
  },
  {
   "cell_type": "code",
   "execution_count": 20,
   "metadata": {},
   "outputs": [
    {
     "name": "stdout",
     "output_type": "stream",
     "text": [
      "[814079.1, 851061.6000000001, 1002901.6000000002, 1113503.1000000003, 1272671.6]\n"
     ]
    }
   ],
   "source": [
    "ar = []\n",
    "dates = [(2018, 10), (2018, 11), (2018, 12), (2019, 1), (2019, 2)]\n",
    "for i, j in dates:\n",
    "    df1 = df[(df['PURCHASE_DATE'].dt.year == i) & (df['PURCHASE_DATE'].dt.month == j)]\n",
    "    dc = df1.merge(db, on=\"BOX_ID\", how=\"inner\")\n",
    "    dc['QUANTITY'] = dc['BOX_COUNT'] * dc['MEAT']\n",
    "    ar.append(dc['QUANTITY'].sum())\n",
    "print(ar)"
   ]
  },
  {
   "cell_type": "code",
   "execution_count": 21,
   "metadata": {},
   "outputs": [
    {
     "name": "stdout",
     "output_type": "stream",
     "text": [
      "[4.542863218082877, 17.84124674406648, 11.028150717877018, 14.294392175468548]\n",
      "11.92666321387373\n"
     ]
    }
   ],
   "source": [
    "grate = []\n",
    "for i in range(1, len(ar)):\n",
    "    rate = ((ar[i] - ar[i-1])/ar[i-1]) * 100\n",
    "    grate.append(rate)\n",
    "print(grate)\n",
    "average = sum(grate) / len(grate)\n",
    "print(average)"
   ]
  },
  {
   "cell_type": "markdown",
   "metadata": {},
   "source": [
    "8. What is the difference between Daily avg. Milk sale amount on Sunday & Tuesday for the month of Jan'19?"
   ]
  },
  {
   "cell_type": "code",
   "execution_count": 22,
   "metadata": {},
   "outputs": [
    {
     "name": "stdout",
     "output_type": "stream",
     "text": [
      "-0.11323648653925034\n"
     ]
    }
   ],
   "source": [
    "df_jan = df[(df['PURCHASE_DATE'].dt.year == 2019) & (df['PURCHASE_DATE'].dt.month == 1)]\n",
    "dc = df_jan.merge(db, on=\"BOX_ID\", how=\"inner\")\n",
    "dc['QUANTITY'] = dc['BOX_COUNT'] * dc['MILK']\n",
    "# Monday = 0, Sunday = 6\n",
    "ds = dc[dc['PURCHASE_DATE'].dt.dayofweek == 6]\n",
    "dt = dc[dc['PURCHASE_DATE'].dt.dayofweek == 1]\n",
    "s_mean = ds['QUANTITY'].mean()\n",
    "t_mean = dt['QUANTITY'].mean()\n",
    "print(s_mean - t_mean)"
   ]
  },
  {
   "cell_type": "markdown",
   "metadata": {},
   "source": [
    "9. What is the top selling premium quality box ID for the month of Nov'18?"
   ]
  },
  {
   "cell_type": "code",
   "execution_count": 32,
   "metadata": {},
   "outputs": [
    {
     "name": "stdout",
     "output_type": "stream",
     "text": [
      "163.0\n"
     ]
    }
   ],
   "source": [
    "df_nov_18 = df[(df['PURCHASE_DATE'].dt.year == 2018) & (df['PURCHASE_DATE'].dt.month == 11)]\n",
    "dc = df_nov_18.merge(db, on=\"BOX_ID\", how=\"inner\")\n",
    "dc = dc[dc['QUALITY'] == \"Premium\"]\n",
    "dg = dc.groupby('BOX_ID')\n",
    "dg.head()\n",
    "index = dg['BOX_COUNT'].sum().idxmax()\n",
    "print(index)"
   ]
  },
  {
   "cell_type": "markdown",
   "metadata": {},
   "source": [
    "10. What is the unit price of the third highest sold box for Dec'18?"
   ]
  },
  {
   "cell_type": "code",
   "execution_count": 34,
   "metadata": {},
   "outputs": [
    {
     "name": "stdout",
     "output_type": "stream",
     "text": [
      "15.96\n"
     ]
    }
   ],
   "source": [
    "df_dec_18 = df[(df['PURCHASE_DATE'].dt.year == 2018) & (df['PURCHASE_DATE'].dt.month == 12)]\n",
    "dc = df_dec_18.merge(db, on=\"BOX_ID\", how=\"inner\")\n",
    "# Group by 'BOX_ID' and sum the 'BOX_COUNT', also retrieve the 'UNIT_PRICE' (assumed constant per box id)\n",
    "grouped_data = dc.groupby('BOX_ID').agg(Total_Sold=('BOX_COUNT', 'sum'), Unit_Price=('UNIT_PRICE', 'first')).reset_index()\n",
    "\n",
    "# Sort the data by 'Total_Sold' in descending order\n",
    "sorted_data = grouped_data.sort_values(by='Total_Sold', ascending=False)\n",
    "\n",
    "# Get the third highest sold box's unit price\n",
    "# Check if there are at least three boxes\n",
    "third_highest_sold_box_price = sorted_data.iloc[2]['Unit_Price']\n",
    "print(third_highest_sold_box_price)"
   ]
  },
  {
   "cell_type": "code",
   "execution_count": null,
   "metadata": {},
   "outputs": [],
   "source": []
  }
 ],
 "metadata": {
  "kernelspec": {
   "display_name": "Python 3",
   "language": "python",
   "name": "python3"
  },
  "language_info": {
   "codemirror_mode": {
    "name": "ipython",
    "version": 3
   },
   "file_extension": ".py",
   "mimetype": "text/x-python",
   "name": "python",
   "nbconvert_exporter": "python",
   "pygments_lexer": "ipython3",
   "version": "3.10.0"
  }
 },
 "nbformat": 4,
 "nbformat_minor": 2
}
